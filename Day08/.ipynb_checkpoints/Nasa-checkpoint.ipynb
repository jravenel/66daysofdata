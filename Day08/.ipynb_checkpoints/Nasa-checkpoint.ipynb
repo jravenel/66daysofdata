{
 "cells": [
  {
   "cell_type": "code",
   "execution_count": 8,
   "id": "91e0732a-ec0d-4716-b2d8-26f56f5f6da2",
   "metadata": {
    "execution": {
     "iopub.execute_input": "2022-06-09T14:49:40.637118Z",
     "iopub.status.busy": "2022-06-09T14:49:40.636890Z",
     "iopub.status.idle": "2022-06-09T14:49:40.689666Z",
     "shell.execute_reply": "2022-06-09T14:49:40.689052Z",
     "shell.execute_reply.started": "2022-06-09T14:49:40.637095Z"
    }
   },
   "outputs": [],
   "source": [
    "import requests"
   ]
  },
  {
   "cell_type": "code",
   "execution_count": 2,
   "id": "56e0eac6-9118-4c00-803e-fbb5e687bd0c",
   "metadata": {
    "execution": {
     "iopub.execute_input": "2022-06-09T14:48:02.236973Z",
     "iopub.status.busy": "2022-06-09T14:48:02.236685Z",
     "iopub.status.idle": "2022-06-09T14:48:02.248202Z",
     "shell.execute_reply": "2022-06-09T14:48:02.247659Z",
     "shell.execute_reply.started": "2022-06-09T14:48:02.236943Z"
    },
    "tags": []
   },
   "outputs": [
    {
     "data": {
      "text/plain": [
       "'9V43EZzqhU9Ch96Rh198ge81ifpVOYZ6h1fr7cQq'"
      ]
     },
     "execution_count": 2,
     "metadata": {},
     "output_type": "execute_result"
    }
   ],
   "source": [
    "API_KEY = \"9V43EZzqhU9Ch96Rh198ge81ifpVOYZ6h1fr7cQq\"\n",
    "API_KEY"
   ]
  },
  {
   "cell_type": "code",
   "execution_count": 12,
   "id": "1b7980b9-11a4-4686-a1c5-9d7c92411ba3",
   "metadata": {
    "execution": {
     "iopub.execute_input": "2022-06-09T14:50:05.920503Z",
     "iopub.status.busy": "2022-06-09T14:50:05.920279Z",
     "iopub.status.idle": "2022-06-09T14:50:05.933636Z",
     "shell.execute_reply": "2022-06-09T14:50:05.927533Z",
     "shell.execute_reply.started": "2022-06-09T14:50:05.920480Z"
    },
    "tags": []
   },
   "outputs": [
    {
     "data": {
      "text/plain": [
       "<function __main__.get_photo()>"
      ]
     },
     "execution_count": 12,
     "metadata": {},
     "output_type": "execute_result"
    }
   ],
   "source": [
    "def get_photo():\n",
    "  resp = requests.get(f\"https://api.nasa.gov/mars-photos/api/v1/rovers/perseverance/latest_photos?api_key={API_KEY}\").json()\n",
    "  return random.choice(resp['latest_photos'])"
   ]
  },
  {
   "cell_type": "code",
   "execution_count": 10,
   "id": "c09c0ad9-a3fb-4406-b294-d6dbd7683380",
   "metadata": {
    "execution": {
     "iopub.execute_input": "2022-06-09T14:49:49.218174Z",
     "iopub.status.busy": "2022-06-09T14:49:49.217936Z",
     "iopub.status.idle": "2022-06-09T14:49:49.822171Z",
     "shell.execute_reply": "2022-06-09T14:49:49.821515Z",
     "shell.execute_reply.started": "2022-06-09T14:49:49.218149Z"
    },
    "tags": []
   },
   "outputs": [
    {
     "data": {
      "text/plain": [
       "{'latest_photos': [{'id': 983592,\n",
       "   'sol': 462,\n",
       "   'camera': {'id': 38,\n",
       "    'name': 'NAVCAM_LEFT',\n",
       "    'rover_id': 8,\n",
       "    'full_name': 'Navigation Camera - Left'},\n",
       "   'img_src': 'https://mars.nasa.gov/mars2020-raw-images/pub/ods/surface/sol/00462/ids/edr/browse/ncam/NLE_0462_0707945748_630ECM_N0260630SCAM15012_00_0LLJ01_1200.jpg',\n",
       "   'earth_date': '2022-06-07',\n",
       "   'rover': {'id': 8,\n",
       "    'name': 'Perseverance',\n",
       "    'landing_date': '2021-02-18',\n",
       "    'launch_date': '2020-07-30',\n",
       "    'status': 'active'}},\n",
       "  {'id': 983593,\n",
       "   'sol': 462,\n",
       "   'camera': {'id': 38,\n",
       "    'name': 'NAVCAM_LEFT',\n",
       "    'rover_id': 8,\n",
       "    'full_name': 'Navigation Camera - Left'},\n",
       "   'img_src': 'https://mars.nasa.gov/mars2020-raw-images/pub/ods/surface/sol/00462/ids/edr/browse/ncam/NLE_0462_0707946845_487ECM_N0260630SCAM15012_00_0LLJ01_1200.jpg',\n",
       "   'earth_date': '2022-06-07',\n",
       "   'rover': {'id': 8,\n",
       "    'name': 'Perseverance',\n",
       "    'landing_date': '2021-02-18',\n",
       "    'launch_date': '2020-07-30',\n",
       "    'status': 'active'}},\n",
       "  {'id': 983594,\n",
       "   'sol': 462,\n",
       "   'camera': {'id': 38,\n",
       "    'name': 'NAVCAM_LEFT',\n",
       "    'rover_id': 8,\n",
       "    'full_name': 'Navigation Camera - Left'},\n",
       "   'img_src': 'https://mars.nasa.gov/mars2020-raw-images/pub/ods/surface/sol/00462/ids/edr/browse/ncam/NLF_0462_0707945748_630EBY_N0260630SCAM15012_00_0LLJ01_1200.jpg',\n",
       "   'earth_date': '2022-06-07',\n",
       "   'rover': {'id': 8,\n",
       "    'name': 'Perseverance',\n",
       "    'landing_date': '2021-02-18',\n",
       "    'launch_date': '2020-07-30',\n",
       "    'status': 'active'}},\n",
       "  {'id': 983595,\n",
       "   'sol': 462,\n",
       "   'camera': {'id': 38,\n",
       "    'name': 'NAVCAM_LEFT',\n",
       "    'rover_id': 8,\n",
       "    'full_name': 'Navigation Camera - Left'},\n",
       "   'img_src': 'https://mars.nasa.gov/mars2020-raw-images/pub/ods/surface/sol/00462/ids/edr/browse/ncam/NLF_0462_0707946845_487EBY_N0260630SCAM15012_00_0LLJ01_1200.jpg',\n",
       "   'earth_date': '2022-06-07',\n",
       "   'rover': {'id': 8,\n",
       "    'name': 'Perseverance',\n",
       "    'landing_date': '2021-02-18',\n",
       "    'launch_date': '2020-07-30',\n",
       "    'status': 'active'}},\n",
       "  {'id': 983596,\n",
       "   'sol': 462,\n",
       "   'camera': {'id': 38,\n",
       "    'name': 'NAVCAM_LEFT',\n",
       "    'rover_id': 8,\n",
       "    'full_name': 'Navigation Camera - Left'},\n",
       "   'img_src': 'https://mars.nasa.gov/mars2020-raw-images/pub/ods/surface/sol/00462/ids/edr/browse/ncam/NLG_0462_0707944115_620ECM_N0260630SCAM15012_00_1LLJ01_1200.jpg',\n",
       "   'earth_date': '2022-06-07',\n",
       "   'rover': {'id': 8,\n",
       "    'name': 'Perseverance',\n",
       "    'landing_date': '2021-02-18',\n",
       "    'launch_date': '2020-07-30',\n",
       "    'status': 'active'}},\n",
       "  {'id': 983597,\n",
       "   'sol': 462,\n",
       "   'camera': {'id': 39,\n",
       "    'name': 'NAVCAM_RIGHT',\n",
       "    'rover_id': 8,\n",
       "    'full_name': 'Navigation Camera - Right'},\n",
       "   'img_src': 'https://mars.nasa.gov/mars2020-raw-images/pub/ods/surface/sol/00462/ids/edr/browse/ncam/NRG_0462_0707944115_620ECM_N0260630SCAM15012_00_1LLJ01_1200.jpg',\n",
       "   'earth_date': '2022-06-07',\n",
       "   'rover': {'id': 8,\n",
       "    'name': 'Perseverance',\n",
       "    'landing_date': '2021-02-18',\n",
       "    'launch_date': '2020-07-30',\n",
       "    'status': 'active'}},\n",
       "  {'id': 983584,\n",
       "   'sol': 462,\n",
       "   'camera': {'id': 48,\n",
       "    'name': 'SUPERCAM_RMI',\n",
       "    'rover_id': 8,\n",
       "    'full_name': 'SuperCam Remote Micro Imager'},\n",
       "   'img_src': 'https://mars.nasa.gov/mars2020-raw-images/pub/ods/surface/sol/00462/ids/edr/browse/scam/LRE_0462_0707944808_305ECM_N0260630SCAM15012_0010I6J01_1200.jpg',\n",
       "   'earth_date': '2022-06-07',\n",
       "   'rover': {'id': 8,\n",
       "    'name': 'Perseverance',\n",
       "    'landing_date': '2021-02-18',\n",
       "    'launch_date': '2020-07-30',\n",
       "    'status': 'active'}},\n",
       "  {'id': 983585,\n",
       "   'sol': 462,\n",
       "   'camera': {'id': 48,\n",
       "    'name': 'SUPERCAM_RMI',\n",
       "    'rover_id': 8,\n",
       "    'full_name': 'SuperCam Remote Micro Imager'},\n",
       "   'img_src': 'https://mars.nasa.gov/mars2020-raw-images/pub/ods/surface/sol/00462/ids/edr/browse/scam/LRE_0462_0707945461_505ECM_N0260630SCAM15012_0100I6J01_1200.jpg',\n",
       "   'earth_date': '2022-06-07',\n",
       "   'rover': {'id': 8,\n",
       "    'name': 'Perseverance',\n",
       "    'landing_date': '2021-02-18',\n",
       "    'launch_date': '2020-07-30',\n",
       "    'status': 'active'}},\n",
       "  {'id': 983586,\n",
       "   'sol': 462,\n",
       "   'camera': {'id': 48,\n",
       "    'name': 'SUPERCAM_RMI',\n",
       "    'rover_id': 8,\n",
       "    'full_name': 'SuperCam Remote Micro Imager'},\n",
       "   'img_src': 'https://mars.nasa.gov/mars2020-raw-images/pub/ods/surface/sol/00462/ids/edr/browse/scam/LRE_0462_0707945943_301ECM_N0260630SCAM15012_0010I6J01_1200.jpg',\n",
       "   'earth_date': '2022-06-07',\n",
       "   'rover': {'id': 8,\n",
       "    'name': 'Perseverance',\n",
       "    'landing_date': '2021-02-18',\n",
       "    'launch_date': '2020-07-30',\n",
       "    'status': 'active'}},\n",
       "  {'id': 983587,\n",
       "   'sol': 462,\n",
       "   'camera': {'id': 48,\n",
       "    'name': 'SUPERCAM_RMI',\n",
       "    'rover_id': 8,\n",
       "    'full_name': 'SuperCam Remote Micro Imager'},\n",
       "   'img_src': 'https://mars.nasa.gov/mars2020-raw-images/pub/ods/surface/sol/00462/ids/edr/browse/scam/LRE_0462_0707946569_351ECM_N0260630SCAM15012_0100I6J01_1200.jpg',\n",
       "   'earth_date': '2022-06-07',\n",
       "   'rover': {'id': 8,\n",
       "    'name': 'Perseverance',\n",
       "    'landing_date': '2021-02-18',\n",
       "    'launch_date': '2020-07-30',\n",
       "    'status': 'active'}},\n",
       "  {'id': 983588,\n",
       "   'sol': 462,\n",
       "   'camera': {'id': 48,\n",
       "    'name': 'SUPERCAM_RMI',\n",
       "    'rover_id': 8,\n",
       "    'full_name': 'SuperCam Remote Micro Imager'},\n",
       "   'img_src': 'https://mars.nasa.gov/mars2020-raw-images/pub/ods/surface/sol/00462/ids/edr/browse/scam/LRF_0462_0707944808_305EBY_N0260630SCAM15012_0010I6J01_1200.jpg',\n",
       "   'earth_date': '2022-06-07',\n",
       "   'rover': {'id': 8,\n",
       "    'name': 'Perseverance',\n",
       "    'landing_date': '2021-02-18',\n",
       "    'launch_date': '2020-07-30',\n",
       "    'status': 'active'}},\n",
       "  {'id': 983589,\n",
       "   'sol': 462,\n",
       "   'camera': {'id': 48,\n",
       "    'name': 'SUPERCAM_RMI',\n",
       "    'rover_id': 8,\n",
       "    'full_name': 'SuperCam Remote Micro Imager'},\n",
       "   'img_src': 'https://mars.nasa.gov/mars2020-raw-images/pub/ods/surface/sol/00462/ids/edr/browse/scam/LRF_0462_0707945461_505EBY_N0260630SCAM15012_0100I6J01_1200.jpg',\n",
       "   'earth_date': '2022-06-07',\n",
       "   'rover': {'id': 8,\n",
       "    'name': 'Perseverance',\n",
       "    'landing_date': '2021-02-18',\n",
       "    'launch_date': '2020-07-30',\n",
       "    'status': 'active'}},\n",
       "  {'id': 983590,\n",
       "   'sol': 462,\n",
       "   'camera': {'id': 48,\n",
       "    'name': 'SUPERCAM_RMI',\n",
       "    'rover_id': 8,\n",
       "    'full_name': 'SuperCam Remote Micro Imager'},\n",
       "   'img_src': 'https://mars.nasa.gov/mars2020-raw-images/pub/ods/surface/sol/00462/ids/edr/browse/scam/LRF_0462_0707945943_301EBY_N0260630SCAM15012_0010I6J01_1200.jpg',\n",
       "   'earth_date': '2022-06-07',\n",
       "   'rover': {'id': 8,\n",
       "    'name': 'Perseverance',\n",
       "    'landing_date': '2021-02-18',\n",
       "    'launch_date': '2020-07-30',\n",
       "    'status': 'active'}},\n",
       "  {'id': 983591,\n",
       "   'sol': 462,\n",
       "   'camera': {'id': 48,\n",
       "    'name': 'SUPERCAM_RMI',\n",
       "    'rover_id': 8,\n",
       "    'full_name': 'SuperCam Remote Micro Imager'},\n",
       "   'img_src': 'https://mars.nasa.gov/mars2020-raw-images/pub/ods/surface/sol/00462/ids/edr/browse/scam/LRF_0462_0707946569_351EBY_N0260630SCAM15012_0100I6J01_1200.jpg',\n",
       "   'earth_date': '2022-06-07',\n",
       "   'rover': {'id': 8,\n",
       "    'name': 'Perseverance',\n",
       "    'landing_date': '2021-02-18',\n",
       "    'launch_date': '2020-07-30',\n",
       "    'status': 'active'}}]}"
      ]
     },
     "execution_count": 10,
     "metadata": {},
     "output_type": "execute_result"
    }
   ],
   "source": [
    "resp = requests.get(f\"https://api.nasa.gov/mars-photos/api/v1/rovers/perseverance/latest_photos?api_key={API_KEY}\").json()\n",
    "resp"
   ]
  },
  {
   "cell_type": "code",
   "execution_count": null,
   "id": "9b0f5e5d-dab3-4cc0-821f-53a59e09151a",
   "metadata": {},
   "outputs": [],
   "source": []
  }
 ],
 "metadata": {
  "kernelspec": {
   "display_name": "Python 3",
   "language": "python",
   "name": "python3"
  },
  "language_info": {
   "codemirror_mode": {
    "name": "ipython",
    "version": 3
   },
   "file_extension": ".py",
   "mimetype": "text/x-python",
   "name": "python",
   "nbconvert_exporter": "python",
   "pygments_lexer": "ipython3",
   "version": "3.9.6"
  }
 },
 "nbformat": 4,
 "nbformat_minor": 5
}

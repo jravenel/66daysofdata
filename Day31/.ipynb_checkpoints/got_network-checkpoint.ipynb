{
 "cells": [
  {
   "cell_type": "code",
   "execution_count": 4,
   "id": "a9214b45-a707-408a-99af-56bab051bae9",
   "metadata": {
    "execution": {
     "iopub.execute_input": "2022-07-03T15:51:46.833329Z",
     "iopub.status.busy": "2022-07-03T15:51:46.833093Z",
     "iopub.status.idle": "2022-07-03T15:51:46.923478Z",
     "shell.execute_reply": "2022-07-03T15:51:46.922678Z",
     "shell.execute_reply.started": "2022-07-03T15:51:46.833300Z"
    },
    "tags": []
   },
   "outputs": [],
   "source": [
    "from pyvis.network import Network\n",
    "import pandas as pd\n",
    "\n",
    "got_net = Network(height='750px', width='100%', bgcolor='#2D2D2D', font_color='white')\n",
    "\n",
    "# set the physics layout of the network\n",
    "got_net.barnes_hut()\n",
    "got_data = pd.read_csv('stormofswords.csv')\n",
    "\n",
    "sources = got_data['Source']\n",
    "targets = got_data['Target']\n",
    "weights = got_data['Weight']\n",
    "\n",
    "edge_data = zip(sources, targets, weights)\n",
    "\n",
    "for e in edge_data:\n",
    "    src = e[0]\n",
    "    dst = e[1]\n",
    "    w = e[2]\n",
    "\n",
    "    got_net.add_node(src, src, title=src)\n",
    "    got_net.add_node(dst, dst, title=dst)\n",
    "    got_net.add_edge(src, dst, value=w)\n",
    "\n",
    "neighbor_map = got_net.get_adj_list()\n",
    "\n",
    "# add neighbor data to node hover data\n",
    "for node in got_net.nodes:\n",
    "    node['title'] += ' Neighbors:<br>' + '<br>'.join(neighbor_map[node['id']])\n",
    "    node['value'] = len(neighbor_map[node['id']])\n",
    "\n",
    "got_net.show('gameofthrones.html')"
   ]
  },
  {
   "cell_type": "code",
   "execution_count": 5,
   "id": "d06d3c8c-163b-45af-8f97-749fc00b969a",
   "metadata": {
    "execution": {
     "iopub.execute_input": "2022-07-03T15:51:48.741312Z",
     "iopub.status.busy": "2022-07-03T15:51:48.741087Z",
     "iopub.status.idle": "2022-07-03T15:51:49.248592Z",
     "shell.execute_reply": "2022-07-03T15:51:49.247953Z",
     "shell.execute_reply.started": "2022-07-03T15:51:48.741290Z"
    },
    "tags": []
   },
   "outputs": [
    {
     "name": "stdout",
     "output_type": "stream",
     "text": [
      "👌 Well done! Your Assets has been sent to production.\n",
      "\n"
     ]
    },
    {
     "data": {
      "application/javascript": [
       "\n",
       "    if (!window.copyToClipboard) {\n",
       "        window.copyToClipboard = (text) => {\n",
       "            const dummy = document.createElement(\"textarea\");\n",
       "            document.body.appendChild(dummy);\n",
       "            dummy.value = text;\n",
       "            dummy.select();\n",
       "            document.execCommand(\"copy\");\n",
       "            document.body.removeChild(dummy);\n",
       "        }\n",
       "    }\n",
       "    "
      ],
      "text/plain": [
       "<IPython.core.display.Javascript object>"
      ]
     },
     "metadata": {},
     "output_type": "display_data"
    },
    {
     "data": {
      "application/vnd.jupyter.widget-view+json": {
       "model_id": "98ad59cc54c94769bb16e26e359f8cbb",
       "version_major": 2,
       "version_minor": 0
      },
      "text/plain": [
       "Button(button_style='primary', description='Copy URL', style=ButtonStyle())"
      ]
     },
     "metadata": {},
     "output_type": "display_data"
    },
    {
     "data": {
      "application/vnd.jupyter.widget-view+json": {
       "model_id": "5b5425f2c25c4e578b30d2dbe63fb7a9",
       "version_major": 2,
       "version_minor": 0
      },
      "text/plain": [
       "Output()"
      ]
     },
     "metadata": {},
     "output_type": "display_data"
    },
    {
     "name": "stdout",
     "output_type": "stream",
     "text": [
      "PS: to remove the \"Assets\" feature, just replace .add by .delete\n"
     ]
    },
    {
     "data": {
      "text/plain": [
       "'https://public.naas.ai/amVyZW15LTQwbmFhcy0yRWFp/asset/51153e4645b6180b975bfcd68bd6dfcc5d20c0b85c60a21e9daa724ea911'"
      ]
     },
     "execution_count": 5,
     "metadata": {},
     "output_type": "execute_result"
    }
   ],
   "source": [
    "import naas\n",
    "naas.asset.add('gameofthrones.html',{\"inline\": True} )"
   ]
  },
  {
   "cell_type": "code",
   "execution_count": null,
   "id": "415e52f2-44df-4658-be1f-72b17233da6b",
   "metadata": {},
   "outputs": [],
   "source": []
  }
 ],
 "metadata": {
  "kernelspec": {
   "display_name": "Python 3",
   "language": "python",
   "name": "python3"
  },
  "language_info": {
   "codemirror_mode": {
    "name": "ipython",
    "version": 3
   },
   "file_extension": ".py",
   "mimetype": "text/x-python",
   "name": "python",
   "nbconvert_exporter": "python",
   "pygments_lexer": "ipython3",
   "version": "3.9.6"
  }
 },
 "nbformat": 4,
 "nbformat_minor": 5
}

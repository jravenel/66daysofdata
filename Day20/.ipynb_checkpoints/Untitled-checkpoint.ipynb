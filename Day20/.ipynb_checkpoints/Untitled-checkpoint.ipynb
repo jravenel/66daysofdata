{
 "cells": [
  {
   "cell_type": "markdown",
   "id": "d256f79f-79db-4e69-80c7-b03195888fd6",
   "metadata": {},
   "source": [
    "# YouTube music - Explore API"
   ]
  },
  {
   "cell_type": "code",
   "execution_count": 6,
   "id": "307c1622-19f1-4740-8220-4cf8a0ba4535",
   "metadata": {
    "execution": {
     "iopub.execute_input": "2022-06-21T17:44:20.362474Z",
     "iopub.status.busy": "2022-06-21T17:44:20.362250Z",
     "iopub.status.idle": "2022-06-21T17:44:24.722757Z",
     "shell.execute_reply": "2022-06-21T17:44:24.722049Z",
     "shell.execute_reply.started": "2022-06-21T17:44:20.362451Z"
    },
    "tags": []
   },
   "outputs": [
    {
     "name": "stdout",
     "output_type": "stream",
     "text": [
      "Requirement already satisfied: ytmusicapi in /opt/conda/lib/python3.9/site-packages (0.22.0)\n",
      "Requirement already satisfied: requests>=2.22 in /home/ftp/.local/lib/python3.9/site-packages (from ytmusicapi) (2.27.1)\n",
      "Requirement already satisfied: urllib3<1.27,>=1.21.1 in /opt/conda/lib/python3.9/site-packages (from requests>=2.22->ytmusicapi) (1.26.6)\n",
      "Requirement already satisfied: charset-normalizer~=2.0.0 in /opt/conda/lib/python3.9/site-packages (from requests>=2.22->ytmusicapi) (2.0.0)\n",
      "Requirement already satisfied: certifi>=2017.4.17 in /opt/conda/lib/python3.9/site-packages (from requests>=2.22->ytmusicapi) (2021.5.30)\n",
      "Requirement already satisfied: idna<4,>=2.5 in /opt/conda/lib/python3.9/site-packages (from requests>=2.22->ytmusicapi) (2.10)\n",
      "Note: you may need to restart the kernel to use updated packages.\n"
     ]
    }
   ],
   "source": [
    "pip install ytmusicapi"
   ]
  },
  {
   "cell_type": "code",
   "execution_count": 7,
   "id": "d9f295e1-c640-4850-9e9e-4da03cf723a3",
   "metadata": {
    "execution": {
     "iopub.execute_input": "2022-06-21T17:44:25.645439Z",
     "iopub.status.busy": "2022-06-21T17:44:25.645198Z",
     "iopub.status.idle": "2022-06-21T17:44:26.342747Z",
     "shell.execute_reply": "2022-06-21T17:44:26.342014Z",
     "shell.execute_reply.started": "2022-06-21T17:44:25.645406Z"
    },
    "tags": []
   },
   "outputs": [],
   "source": [
    "from ytmusicapi import YTMusic\n",
    "\n",
    "ytmusic = YTMusic()"
   ]
  },
  {
   "cell_type": "code",
   "execution_count": 29,
   "id": "bb280003-2ee6-41d7-b587-c4931e1a5da8",
   "metadata": {
    "execution": {
     "iopub.execute_input": "2022-06-21T18:04:57.810115Z",
     "iopub.status.busy": "2022-06-21T18:04:57.809883Z",
     "iopub.status.idle": "2022-06-21T18:05:00.669421Z",
     "shell.execute_reply": "2022-06-21T18:05:00.668705Z",
     "shell.execute_reply.started": "2022-06-21T18:04:57.810094Z"
    },
    "tags": []
   },
   "outputs": [
    {
     "data": {
      "text/plain": [
       "{'status': 'STATUS_SUCCEEDED',\n",
       " 'playlistEditResults': [{'videoId': 'vU05Eksc_iM',\n",
       "   'setVideoId': '56B44F6D10557CC6'}]}"
      ]
     },
     "execution_count": 29,
     "metadata": {},
     "output_type": "execute_result"
    }
   ],
   "source": [
    "from ytmusicapi import YTMusic\n",
    "\n",
    "ytmusic = YTMusic('headers_auth.json')\n",
    "playlistId = ytmusic.create_playlist('COOL', 'test description')\n",
    "search_results = ytmusic.search('Oasis Wonderwall')\n",
    "ytmusic.add_playlist_items(playlistId, [search_results[0]['videoId']])"
   ]
  },
  {
   "cell_type": "code",
   "execution_count": 31,
   "id": "64b5eb01-fc98-4191-ad55-ec0bd32b392b",
   "metadata": {
    "execution": {
     "iopub.execute_input": "2022-06-21T18:07:25.206282Z",
     "iopub.status.busy": "2022-06-21T18:07:25.206054Z",
     "iopub.status.idle": "2022-06-21T18:07:25.362672Z",
     "shell.execute_reply": "2022-06-21T18:07:25.361941Z",
     "shell.execute_reply.started": "2022-06-21T18:07:25.206258Z"
    },
    "tags": []
   },
   "outputs": [
    {
     "data": {
      "text/plain": [
       "{'id': 'PLtg0jAMPEnrFnKGF9CweR9TTi8AMT9kcs',\n",
       " 'privacy': 'PUBLIC',\n",
       " 'title': 'Chill',\n",
       " 'thumbnails': [{'url': 'https://i.ytimg.com/vi/LvseVD5QwAo/hqdefault.jpg?sqp=-oaymwEWCMACELQBIAQqCghQEJADGFogjgJIWg&rs=AMzJL3ngSlodwAQcQA0ksytUCuDBNTGykg',\n",
       "   'width': 320,\n",
       "   'height': 180}],\n",
       " 'description': None,\n",
       " 'author': {'name': 'RAVENEL Jérémy', 'id': 'UC0I6XDy7pccATjJB7reoR7A'},\n",
       " 'year': '2020',\n",
       " 'duration': '0+ hours',\n",
       " 'trackCount': 6,\n",
       " 'suggestions_token': None,\n",
       " 'tracks': [{'videoId': 'LvseVD5QwAo',\n",
       "   'title': 'Peer Kusiv - Gelöt',\n",
       "   'artists': [{'name': 'Délicieuse Musique',\n",
       "     'id': 'UCrlNi8Z5TXfWJf4psK76KWw'}],\n",
       "   'album': None,\n",
       "   'likeStatus': 'INDIFFERENT',\n",
       "   'thumbnails': [{'url': 'https://i.ytimg.com/vi/LvseVD5QwAo/hqdefault.jpg?sqp=-oaymwEWCMACELQBIAQqCghQEJADGFogjgJIWg&rs=AMzJL3ngSlodwAQcQA0ksytUCuDBNTGykg',\n",
       "     'width': 320,\n",
       "     'height': 180}],\n",
       "   'isAvailable': True,\n",
       "   'isExplicit': False,\n",
       "   'duration': '7:32',\n",
       "   'duration_seconds': 452},\n",
       "  {'videoId': 'IOpMy-MLw-E',\n",
       "   'title': 'Lake Powel - Bright Eyes, Dirty Hair',\n",
       "   'artists': [{'name': 'Délicieuse Musique',\n",
       "     'id': 'UCrlNi8Z5TXfWJf4psK76KWw'}],\n",
       "   'album': None,\n",
       "   'likeStatus': 'INDIFFERENT',\n",
       "   'thumbnails': [{'url': 'https://i.ytimg.com/vi/IOpMy-MLw-E/sddefault.jpg?sqp=-oaymwEWCJADEOEBIAQqCghqEJQEGHgg6AJIWg&rs=AMzJL3lfy0x2LW8aNfWz8gBB0btu7O5fPA',\n",
       "     'width': 400,\n",
       "     'height': 225}],\n",
       "   'isAvailable': True,\n",
       "   'isExplicit': False,\n",
       "   'duration': '8:15',\n",
       "   'duration_seconds': 495},\n",
       "  {'videoId': 'LLOidrl24_g',\n",
       "   'title': 'Crussen - Sometimes I Wish',\n",
       "   'artists': [{'name': 'Délicieuse Musique',\n",
       "     'id': 'UCrlNi8Z5TXfWJf4psK76KWw'}],\n",
       "   'album': None,\n",
       "   'likeStatus': 'INDIFFERENT',\n",
       "   'thumbnails': [{'url': 'https://i.ytimg.com/vi/LLOidrl24_g/sddefault.jpg?sqp=-oaymwEWCJADEOEBIAQqCghqEJQEGHgg6AJIWg&rs=AMzJL3nv24LGssZy9-PXk6fTYAyntNK7jQ',\n",
       "     'width': 400,\n",
       "     'height': 225}],\n",
       "   'isAvailable': True,\n",
       "   'isExplicit': False,\n",
       "   'duration': '5:17',\n",
       "   'duration_seconds': 317}],\n",
       " 'duration_seconds': 1264}"
      ]
     },
     "execution_count": 31,
     "metadata": {},
     "output_type": "execute_result"
    }
   ],
   "source": [
    "ytmusic.get_playlist(\"PLtg0jAMPEnrFnKGF9CweR9TTi8AMT9kcs\", limit=100)"
   ]
  },
  {
   "cell_type": "code",
   "execution_count": 17,
   "id": "813a63af-5707-49f4-a766-ce4db5a419fd",
   "metadata": {
    "execution": {
     "iopub.execute_input": "2022-06-21T18:01:27.022323Z",
     "iopub.status.busy": "2022-06-21T18:01:27.022104Z",
     "iopub.status.idle": "2022-06-21T18:01:27.188480Z",
     "shell.execute_reply": "2022-06-21T18:01:27.187752Z",
     "shell.execute_reply.started": "2022-06-21T18:01:27.022301Z"
    },
    "tags": []
   },
   "outputs": [
    {
     "data": {
      "text/plain": [
       "{'Moods & moments': [{'title': 'Black Lives Matter',\n",
       "   'params': 'ggMPOg1uX3FqdmtLcmpwUm5K'},\n",
       "  {'title': 'Chill', 'params': 'ggMPOg1uXzRUZW5PY01yeENW'},\n",
       "  {'title': 'Energy Boosters', 'params': 'ggMPOg1uX2UzN05ialZBUGJu'},\n",
       "  {'title': 'Feel Good', 'params': 'ggMPOg1uX0ZCZU11RmFERnhM'},\n",
       "  {'title': 'Focus', 'params': 'ggMPOg1uX2haRXczZWdKVmpm'},\n",
       "  {'title': 'Party', 'params': 'ggMPOg1uXzRWWXBmUWpjU1BP'},\n",
       "  {'title': 'Romance', 'params': 'ggMPOg1uX2VvY2tyajE0TjNC'},\n",
       "  {'title': 'Sleep', 'params': 'ggMPOg1uX01wWkRpZ0puRlV4'},\n",
       "  {'title': 'Workout', 'params': 'ggMPOg1uX3ZYUkxwS1FRaVVy'}],\n",
       " 'Genres': [{'title': 'African', 'params': 'ggMPOg1uX0UzWGxlRE5jMDVk'},\n",
       "  {'title': 'Arabic', 'params': 'ggMPOg1uX3VOQWxsblVZTFNE'},\n",
       "  {'title': 'Blues', 'params': 'ggMPOg1uX2NXUkgxdW0zUHJp'},\n",
       "  {'title': 'Bollywood & Indian', 'params': 'ggMPOg1uX0JrcUJGUHhxaTFV'},\n",
       "  {'title': 'Classical', 'params': 'ggMPOg1uX1N4VmduTmdUR3dm'},\n",
       "  {'title': 'Country & Americana', 'params': 'ggMPOg1uX1FTMHlFVURiQjZk'},\n",
       "  {'title': 'Dance & Electronic', 'params': 'ggMPOg1uXzNvTVlQZGk0bGwx'},\n",
       "  {'title': 'Decades', 'params': 'ggMPOg1uX3pGYTJ3bFVha3Fu'},\n",
       "  {'title': 'Folk & Traditional', 'params': 'ggMPOg1uXzRwTHV3d29oNkxy'},\n",
       "  {'title': 'French Pop/French Varieties',\n",
       "   'params': 'ggMPOg1uX25wZ25rYWJ0VldR'},\n",
       "  {'title': 'French Rap', 'params': 'ggMPOg1uX3FVSEdOQWQxRU56'},\n",
       "  {'title': 'French Urban Pop', 'params': 'ggMPOg1uX1RKTlVlZVVNVVho'},\n",
       "  {'title': 'Hip-Hop', 'params': 'ggMPOg1uX05RVU1pbTltSHd1'},\n",
       "  {'title': 'Indie & Alternative', 'params': 'ggMPOg1uXzRPeVZhZGc1YXhS'},\n",
       "  {'title': 'Jazz', 'params': 'ggMPOg1uX3lPcDFRaE9wM1BS'},\n",
       "  {'title': 'K-Pop', 'params': 'ggMPOg1uX0JrbjBDOFFPSzJW'},\n",
       "  {'title': 'Latin', 'params': 'ggMPOg1uX3VSSHBoVlE4cHYw'},\n",
       "  {'title': 'Pop', 'params': 'ggMPOg1uX3FRMkJJeFJtZk9z'},\n",
       "  {'title': 'R&B & Soul', 'params': 'ggMPOg1uX0g5cTg1MU1NNVFj'},\n",
       "  {'title': 'Reggae & Caribbean', 'params': 'ggMPOg1uX2FXR21peHVqelR1'},\n",
       "  {'title': 'Rock & Metal', 'params': 'ggMPOg1uX1JYdmFDMXYyNnZR'},\n",
       "  {'title': 'Soundtracks & Musicals', 'params': 'ggMPOg1uXzFjNlZvT0ZoZGVI'},\n",
       "  {'title': 'Summer', 'params': 'ggMPOg1uX0FVWUFhaU9QRFNB'}]}"
      ]
     },
     "execution_count": 17,
     "metadata": {},
     "output_type": "execute_result"
    }
   ],
   "source": [
    "ytmusic.get_mood_categories()"
   ]
  },
  {
   "cell_type": "code",
   "execution_count": 28,
   "id": "64bf1476-d139-4b62-b069-ac10f931dbed",
   "metadata": {
    "execution": {
     "iopub.execute_input": "2022-06-21T18:04:43.790676Z",
     "iopub.status.busy": "2022-06-21T18:04:43.790385Z",
     "iopub.status.idle": "2022-06-21T18:04:44.146938Z",
     "shell.execute_reply": "2022-06-21T18:04:44.145991Z",
     "shell.execute_reply.started": "2022-06-21T18:04:43.790651Z"
    },
    "tags": []
   },
   "outputs": [
    {
     "ename": "IndexError",
     "evalue": "list index out of range",
     "output_type": "error",
     "traceback": [
      "\u001b[0;31m---------------------------------------------------------------------------\u001b[0m",
      "\u001b[0;31mIndexError\u001b[0m                                Traceback (most recent call last)",
      "\u001b[0;32m<ipython-input-28-9330ec9b6a8f>\u001b[0m in \u001b[0;36m<module>\u001b[0;34m\u001b[0m\n\u001b[0;32m----> 1\u001b[0;31m \u001b[0mytmusic\u001b[0m\u001b[0;34m.\u001b[0m\u001b[0mget_charts\u001b[0m\u001b[0;34m(\u001b[0m\u001b[0mcountry\u001b[0m\u001b[0;34m=\u001b[0m\u001b[0;34m\"FRA\"\u001b[0m\u001b[0;34m)\u001b[0m\u001b[0;34m\u001b[0m\u001b[0;34m\u001b[0m\u001b[0m\n\u001b[0m",
      "\u001b[0;32m/opt/conda/lib/python3.9/site-packages/ytmusicapi/mixins/explore.py\u001b[0m in \u001b[0;36mget_charts\u001b[0;34m(self, country)\u001b[0m\n\u001b[1;32m    222\u001b[0m         \u001b[0;32mfor\u001b[0m \u001b[0mi\u001b[0m\u001b[0;34m,\u001b[0m \u001b[0mc\u001b[0m \u001b[0;32min\u001b[0m \u001b[0menumerate\u001b[0m\u001b[0;34m(\u001b[0m\u001b[0mcharts_categories\u001b[0m\u001b[0;34m)\u001b[0m\u001b[0;34m:\u001b[0m\u001b[0;34m\u001b[0m\u001b[0;34m\u001b[0m\u001b[0m\n\u001b[1;32m    223\u001b[0m             charts[c] = {\n\u001b[0;32m--> 224\u001b[0;31m                 'playlist': nav(results[1 + i], CAROUSEL + CAROUSEL_TITLE + NAVIGATION_BROWSE_ID,\n\u001b[0m\u001b[1;32m    225\u001b[0m                                 True)\n\u001b[1;32m    226\u001b[0m             }\n",
      "\u001b[0;31mIndexError\u001b[0m: list index out of range"
     ]
    }
   ],
   "source": [
    "ytmusic.get_charts(country=\"FRA\") "
   ]
  },
  {
   "cell_type": "code",
   "execution_count": null,
   "id": "96f64d9a-e096-486f-9b01-875a5d31c618",
   "metadata": {},
   "outputs": [],
   "source": []
  }
 ],
 "metadata": {
  "kernelspec": {
   "display_name": "Python 3",
   "language": "python",
   "name": "python3"
  },
  "language_info": {
   "codemirror_mode": {
    "name": "ipython",
    "version": 3
   },
   "file_extension": ".py",
   "mimetype": "text/x-python",
   "name": "python",
   "nbconvert_exporter": "python",
   "pygments_lexer": "ipython3",
   "version": "3.9.6"
  }
 },
 "nbformat": 4,
 "nbformat_minor": 5
}

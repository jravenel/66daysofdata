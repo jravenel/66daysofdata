{
 "cells": [
  {
   "cell_type": "markdown",
   "id": "d256f79f-79db-4e69-80c7-b03195888fd6",
   "metadata": {},
   "source": [
    "# 🎶  YouTube music - Explore API"
   ]
  },
  {
   "cell_type": "code",
   "execution_count": null,
   "id": "307c1622-19f1-4740-8220-4cf8a0ba4535",
   "metadata": {
    "tags": []
   },
   "outputs": [],
   "source": [
    "pip install ytmusicapi"
   ]
  },
  {
   "cell_type": "code",
   "execution_count": 43,
   "id": "d9f295e1-c640-4850-9e9e-4da03cf723a3",
   "metadata": {
    "execution": {
     "iopub.execute_input": "2022-06-21T18:31:36.775377Z",
     "iopub.status.busy": "2022-06-21T18:31:36.775145Z",
     "iopub.status.idle": "2022-06-21T18:31:38.363676Z",
     "shell.execute_reply": "2022-06-21T18:31:38.362066Z",
     "shell.execute_reply.started": "2022-06-21T18:31:36.775353Z"
    },
    "tags": []
   },
   "outputs": [],
   "source": [
    "from ytmusicapi import YTMusic\n",
    "ytmusic = YTMusic('headers_auth.json')"
   ]
  },
  {
   "cell_type": "code",
   "execution_count": 44,
   "id": "64b5eb01-fc98-4191-ad55-ec0bd32b392b",
   "metadata": {
    "execution": {
     "iopub.execute_input": "2022-06-21T18:31:39.324123Z",
     "iopub.status.busy": "2022-06-21T18:31:39.323893Z",
     "iopub.status.idle": "2022-06-21T18:31:39.498650Z",
     "shell.execute_reply": "2022-06-21T18:31:39.498027Z",
     "shell.execute_reply.started": "2022-06-21T18:31:39.324096Z"
    },
    "tags": []
   },
   "outputs": [
    {
     "data": {
      "text/plain": [
       "{'id': 'PLtg0jAMPEnrFnKGF9CweR9TTi8AMT9kcs',\n",
       " 'privacy': 'PUBLIC',\n",
       " 'title': 'Chill',\n",
       " 'thumbnails': [{'url': 'https://i.ytimg.com/vi/LvseVD5QwAo/hqdefault.jpg?sqp=-oaymwEWCMACELQBIAQqCghQEJADGFogjgJIWg&rs=AMzJL3ngSlodwAQcQA0ksytUCuDBNTGykg',\n",
       "   'width': 320,\n",
       "   'height': 180}],\n",
       " 'description': None,\n",
       " 'author': {'name': 'RAVENEL Jérémy', 'id': 'UC0I6XDy7pccATjJB7reoR7A'},\n",
       " 'year': '2020',\n",
       " 'duration': '0+ hours',\n",
       " 'trackCount': 6,\n",
       " 'suggestions_token': None,\n",
       " 'tracks': [{'videoId': 'LvseVD5QwAo',\n",
       "   'title': 'Peer Kusiv - Gelöt',\n",
       "   'artists': [{'name': 'Délicieuse Musique',\n",
       "     'id': 'UCrlNi8Z5TXfWJf4psK76KWw'}],\n",
       "   'album': None,\n",
       "   'likeStatus': 'INDIFFERENT',\n",
       "   'thumbnails': [{'url': 'https://i.ytimg.com/vi/LvseVD5QwAo/hqdefault.jpg?sqp=-oaymwEWCMACELQBIAQqCghQEJADGFogjgJIWg&rs=AMzJL3ngSlodwAQcQA0ksytUCuDBNTGykg',\n",
       "     'width': 320,\n",
       "     'height': 180}],\n",
       "   'isAvailable': True,\n",
       "   'isExplicit': False,\n",
       "   'duration': '7:32',\n",
       "   'duration_seconds': 452},\n",
       "  {'videoId': 'IOpMy-MLw-E',\n",
       "   'title': 'Lake Powel - Bright Eyes, Dirty Hair',\n",
       "   'artists': [{'name': 'Délicieuse Musique',\n",
       "     'id': 'UCrlNi8Z5TXfWJf4psK76KWw'}],\n",
       "   'album': None,\n",
       "   'likeStatus': 'INDIFFERENT',\n",
       "   'thumbnails': [{'url': 'https://i.ytimg.com/vi/IOpMy-MLw-E/sddefault.jpg?sqp=-oaymwEWCJADEOEBIAQqCghqEJQEGHgg6AJIWg&rs=AMzJL3lfy0x2LW8aNfWz8gBB0btu7O5fPA',\n",
       "     'width': 400,\n",
       "     'height': 225}],\n",
       "   'isAvailable': True,\n",
       "   'isExplicit': False,\n",
       "   'duration': '8:15',\n",
       "   'duration_seconds': 495},\n",
       "  {'videoId': 'LLOidrl24_g',\n",
       "   'title': 'Crussen - Sometimes I Wish',\n",
       "   'artists': [{'name': 'Délicieuse Musique',\n",
       "     'id': 'UCrlNi8Z5TXfWJf4psK76KWw'}],\n",
       "   'album': None,\n",
       "   'likeStatus': 'INDIFFERENT',\n",
       "   'thumbnails': [{'url': 'https://i.ytimg.com/vi/LLOidrl24_g/sddefault.jpg?sqp=-oaymwEWCJADEOEBIAQqCghqEJQEGHgg6AJIWg&rs=AMzJL3nv24LGssZy9-PXk6fTYAyntNK7jQ',\n",
       "     'width': 400,\n",
       "     'height': 225}],\n",
       "   'isAvailable': True,\n",
       "   'isExplicit': False,\n",
       "   'duration': '5:17',\n",
       "   'duration_seconds': 317}],\n",
       " 'duration_seconds': 1264}"
      ]
     },
     "execution_count": 44,
     "metadata": {},
     "output_type": "execute_result"
    }
   ],
   "source": [
    "ytmusic.get_playlist(\"PLtg0jAMPEnrFnKGF9CweR9TTi8AMT9kcs\", limit=100)"
   ]
  },
  {
   "cell_type": "code",
   "execution_count": null,
   "id": "06c64590-9a47-43bb-84f3-e71d8b10f9da",
   "metadata": {},
   "outputs": [],
   "source": []
  }
 ],
 "metadata": {
  "kernelspec": {
   "display_name": "Python 3",
   "language": "python",
   "name": "python3"
  },
  "language_info": {
   "codemirror_mode": {
    "name": "ipython",
    "version": 3
   },
   "file_extension": ".py",
   "mimetype": "text/x-python",
   "name": "python",
   "nbconvert_exporter": "python",
   "pygments_lexer": "ipython3",
   "version": "3.9.6"
  }
 },
 "nbformat": 4,
 "nbformat_minor": 5
}

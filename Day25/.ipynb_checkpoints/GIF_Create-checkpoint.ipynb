{
 "cells": [
  {
   "cell_type": "markdown",
   "id": "2c319fb7-09ca-4073-b769-95dd5ac9b43a",
   "metadata": {},
   "source": [
    "# Create a GIF "
   ]
  },
  {
   "cell_type": "code",
   "execution_count": 5,
   "id": "833ef7d4-239e-4d65-854e-35c441ca4b25",
   "metadata": {
    "execution": {
     "iopub.execute_input": "2022-06-27T19:13:46.301058Z",
     "iopub.status.busy": "2022-06-27T19:13:46.300793Z",
     "iopub.status.idle": "2022-06-27T19:13:46.415973Z",
     "shell.execute_reply": "2022-06-27T19:13:46.415316Z",
     "shell.execute_reply.started": "2022-06-27T19:13:46.301033Z"
    },
    "tags": []
   },
   "outputs": [],
   "source": [
    "from PIL import Image, ImageDraw\n",
    "\n",
    "images = []\n",
    "\n",
    "width = 200\n",
    "center = width // 2\n",
    "color_1 = (0, 0, 0)\n",
    "color_2 = (255, 255, 255)\n",
    "max_radius = int(center * 1.3)\n",
    "step = 8\n",
    "\n",
    "for i in range(0, max_radius, step):\n",
    "    im = Image.new('RGB', (width, width), color_1)\n",
    "    draw = ImageDraw.Draw(im)\n",
    "    draw.ellipse((center - i, center - i, center + i, center + i), fill=color_2)\n",
    "    images.append(im)\n",
    "\n",
    "for i in range(0, max_radius, step):\n",
    "    im = Image.new('RGB', (width, width), color_2)\n",
    "    draw = ImageDraw.Draw(im)\n",
    "    draw.ellipse((center - i, center - i, center + i, center + i), fill=color_1)\n",
    "    images.append(im)\n",
    "\n",
    "images[0].save('pillow_imagedraw.gif',\n",
    "               save_all=True, append_images=images[1:], optimize=False, duration=40, loop=0)"
   ]
  },
  {
   "cell_type": "code",
   "execution_count": null,
   "id": "b7d74121-4d23-40c2-9d4b-530debbeb361",
   "metadata": {},
   "outputs": [],
   "source": []
  }
 ],
 "metadata": {
  "kernelspec": {
   "display_name": "Python 3",
   "language": "python",
   "name": "python3"
  },
  "language_info": {
   "codemirror_mode": {
    "name": "ipython",
    "version": 3
   },
   "file_extension": ".py",
   "mimetype": "text/x-python",
   "name": "python",
   "nbconvert_exporter": "python",
   "pygments_lexer": "ipython3",
   "version": "3.9.6"
  }
 },
 "nbformat": 4,
 "nbformat_minor": 5
}

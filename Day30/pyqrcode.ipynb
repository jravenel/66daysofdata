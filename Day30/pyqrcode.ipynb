{
 "cells": [
  {
   "cell_type": "code",
   "execution_count": null,
   "id": "0188041b-a6ff-475b-a875-83d1cfdb2803",
   "metadata": {
    "tags": []
   },
   "outputs": [],
   "source": [
    "!pip install pyqrcode\n",
    "!pip install pypng"
   ]
  },
  {
   "cell_type": "code",
   "execution_count": 10,
   "id": "7294302f-3d63-4bbc-9455-a9b98396fb9c",
   "metadata": {
    "execution": {
     "iopub.execute_input": "2022-07-02T18:19:26.944713Z",
     "iopub.status.busy": "2022-07-02T18:19:26.944488Z",
     "iopub.status.idle": "2022-07-02T18:19:27.008755Z",
     "shell.execute_reply": "2022-07-02T18:19:27.008156Z",
     "shell.execute_reply.started": "2022-07-02T18:19:26.944688Z"
    },
    "tags": []
   },
   "outputs": [],
   "source": [
    "import pyqrcode\n",
    "url = pyqrcode.create(\"https://twitter.com/ravenel_jeremy\")\n",
    "url.png('myqr.png', scale = 6)"
   ]
  },
  {
   "cell_type": "code",
   "execution_count": null,
   "id": "a915d18a-cfc4-452c-b595-f76fbe86e9fc",
   "metadata": {},
   "outputs": [],
   "source": []
  }
 ],
 "metadata": {
  "kernelspec": {
   "display_name": "Python 3",
   "language": "python",
   "name": "python3"
  },
  "language_info": {
   "codemirror_mode": {
    "name": "ipython",
    "version": 3
   },
   "file_extension": ".py",
   "mimetype": "text/x-python",
   "name": "python",
   "nbconvert_exporter": "python",
   "pygments_lexer": "ipython3",
   "version": "3.9.6"
  }
 },
 "nbformat": 4,
 "nbformat_minor": 5
}

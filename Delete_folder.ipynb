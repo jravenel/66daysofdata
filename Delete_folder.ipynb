{
 "cells": [
  {
   "cell_type": "code",
   "execution_count": 2,
   "id": "1e89a6f5-72e5-4fe1-aeec-0502335c4292",
   "metadata": {
    "execution": {
     "iopub.execute_input": "2022-06-07T15:58:25.177494Z",
     "iopub.status.busy": "2022-06-07T15:58:25.177168Z",
     "iopub.status.idle": "2022-06-07T15:58:25.231660Z",
     "shell.execute_reply": "2022-06-07T15:58:25.231058Z",
     "shell.execute_reply.started": "2022-06-07T15:58:25.177423Z"
    },
    "tags": []
   },
   "outputs": [],
   "source": [
    "import shutil\n",
    "shutil.rmtree('Day5 - %%wriitefile magic')"
   ]
  },
  {
   "cell_type": "code",
   "execution_count": null,
   "id": "5674c74a-28e8-4d03-874d-f980ed4afc22",
   "metadata": {},
   "outputs": [],
   "source": []
  }
 ],
 "metadata": {
  "kernelspec": {
   "display_name": "Python 3",
   "language": "python",
   "name": "python3"
  },
  "language_info": {
   "codemirror_mode": {
    "name": "ipython",
    "version": 3
   },
   "file_extension": ".py",
   "mimetype": "text/x-python",
   "name": "python",
   "nbconvert_exporter": "python",
   "pygments_lexer": "ipython3",
   "version": "3.9.6"
  }
 },
 "nbformat": 4,
 "nbformat_minor": 5
}

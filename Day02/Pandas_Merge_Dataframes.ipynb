{
 "cells": [
  {
   "cell_type": "markdown",
   "id": "naas-logo",
   "metadata": {
    "papermill": {},
    "tags": [
     "naas"
    ]
   },
   "source": [
    "<img width=\"10%\" alt=\"Naas\" src=\"https://landen.imgix.net/jtci2pxwjczr/assets/5ice39g4.png?w=160\"/>"
   ]
  },
  {
   "cell_type": "markdown",
   "id": "loaded-giving",
   "metadata": {
    "papermill": {},
    "tags": []
   },
   "source": [
    "# Pandas - Merge Dataframes\n",
    "<a href=\"https://app.naas.ai/user-redirect/naas/downloader?url=https://raw.githubusercontent.com/jupyter-naas/awesome-notebooks/master/Pandas/Pandas_Merge_Dataframes.ipynb\" target=\"_parent\"><img src=\"https://naasai-public.s3.eu-west-3.amazonaws.com/open_in_naas.svg\"/></a>"
   ]
  },
  {
   "cell_type": "markdown",
   "id": "bff61ab9-2d50-4753-a896-7e1693fc02e7",
   "metadata": {
    "papermill": {},
    "tags": []
   },
   "source": [
    "**Tags:** #pandas #python #merging #merge #dataframes #consolidate #operations #snippet #dataframe"
   ]
  },
  {
   "cell_type": "markdown",
   "id": "97291db7-f585-4617-88ec-2d6f55d11815",
   "metadata": {
    "papermill": {},
    "tags": []
   },
   "source": [
    "**Author:** [Oketunji Oludolapo](https://www.linkedin.com/in/oludolapo-oketunji/)"
   ]
  },
  {
   "cell_type": "markdown",
   "id": "3a9a1d85-4ef3-4fc9-bb98-7994078a290e",
   "metadata": {
    "papermill": {},
    "tags": []
   },
   "source": [
    "This notebook will help you understand how to use the pandas merge function. It explains how to merge two datasets together and consolidate multiple dataset into one."
   ]
  },
  {
   "cell_type": "markdown",
   "id": "dried-pound",
   "metadata": {
    "papermill": {},
    "tags": []
   },
   "source": [
    "## Input"
   ]
  },
  {
   "cell_type": "markdown",
   "id": "joint-cancer",
   "metadata": {
    "papermill": {},
    "tags": []
   },
   "source": [
    "### Import Library"
   ]
  },
  {
   "cell_type": "code",
   "execution_count": 1,
   "id": "organized-veteran",
   "metadata": {
    "execution": {
     "iopub.execute_input": "2022-06-03T16:54:28.358615Z",
     "iopub.status.busy": "2022-06-03T16:54:28.357840Z",
     "iopub.status.idle": "2022-06-03T16:54:28.968952Z",
     "shell.execute_reply": "2022-06-03T16:54:28.968170Z",
     "shell.execute_reply.started": "2022-06-03T16:54:28.358511Z"
    },
    "papermill": {},
    "tags": []
   },
   "outputs": [],
   "source": [
    "import pandas as pd\n",
    "import numpy as np"
   ]
  },
  {
   "cell_type": "markdown",
   "id": "adolescent-illinois",
   "metadata": {
    "papermill": {},
    "tags": []
   },
   "source": [
    "### Create dataframes to be merged"
   ]
  },
  {
   "cell_type": "markdown",
   "id": "second-share",
   "metadata": {
    "papermill": {},
    "tags": []
   },
   "source": [
    "#### Dataframe 1"
   ]
  },
  {
   "cell_type": "code",
   "execution_count": 2,
   "id": "answering-adjustment",
   "metadata": {
    "execution": {
     "iopub.execute_input": "2022-06-03T16:54:31.004042Z",
     "iopub.status.busy": "2022-06-03T16:54:31.003813Z",
     "iopub.status.idle": "2022-06-03T16:54:31.009410Z",
     "shell.execute_reply": "2022-06-03T16:54:31.008719Z",
     "shell.execute_reply.started": "2022-06-03T16:54:31.004019Z"
    },
    "papermill": {},
    "tags": []
   },
   "outputs": [],
   "source": [
    "# Creating values to be used as datasets\n",
    "dict1 = {\n",
    "    \"student_id\": [1,2,3,4,5,6,7,8,9,10],\n",
    "    \"student_name\": [\"Peter\",\"Dolly\",\"Maggie\",\"David\",\"Isabelle\",\"Harry\",\"Akin\",\"Abbey\",\"Victoria\",\"Sam\"],\n",
    "    \"student_course\": np.random.choice([\"Biology\",\"Physics\",\"Chemistry\"], size=10)\n",
    "}"
   ]
  },
  {
   "cell_type": "code",
   "execution_count": 3,
   "id": "stunning-steering",
   "metadata": {
    "execution": {
     "iopub.execute_input": "2022-06-03T16:54:34.970840Z",
     "iopub.status.busy": "2022-06-03T16:54:34.970314Z",
     "iopub.status.idle": "2022-06-03T16:54:35.001854Z",
     "shell.execute_reply": "2022-06-03T16:54:35.001103Z",
     "shell.execute_reply.started": "2022-06-03T16:54:34.970796Z"
    },
    "papermill": {},
    "tags": []
   },
   "outputs": [
    {
     "data": {
      "text/html": [
       "<div>\n",
       "<style scoped>\n",
       "    .dataframe tbody tr th:only-of-type {\n",
       "        vertical-align: middle;\n",
       "    }\n",
       "\n",
       "    .dataframe tbody tr th {\n",
       "        vertical-align: top;\n",
       "    }\n",
       "\n",
       "    .dataframe thead th {\n",
       "        text-align: right;\n",
       "    }\n",
       "</style>\n",
       "<table border=\"1\" class=\"dataframe\">\n",
       "  <thead>\n",
       "    <tr style=\"text-align: right;\">\n",
       "      <th></th>\n",
       "      <th>student_id</th>\n",
       "      <th>student_name</th>\n",
       "      <th>student_course</th>\n",
       "    </tr>\n",
       "  </thead>\n",
       "  <tbody>\n",
       "    <tr>\n",
       "      <th>0</th>\n",
       "      <td>1</td>\n",
       "      <td>Peter</td>\n",
       "      <td>Physics</td>\n",
       "    </tr>\n",
       "    <tr>\n",
       "      <th>1</th>\n",
       "      <td>2</td>\n",
       "      <td>Dolly</td>\n",
       "      <td>Physics</td>\n",
       "    </tr>\n",
       "    <tr>\n",
       "      <th>2</th>\n",
       "      <td>3</td>\n",
       "      <td>Maggie</td>\n",
       "      <td>Physics</td>\n",
       "    </tr>\n",
       "    <tr>\n",
       "      <th>3</th>\n",
       "      <td>4</td>\n",
       "      <td>David</td>\n",
       "      <td>Chemistry</td>\n",
       "    </tr>\n",
       "    <tr>\n",
       "      <th>4</th>\n",
       "      <td>5</td>\n",
       "      <td>Isabelle</td>\n",
       "      <td>Physics</td>\n",
       "    </tr>\n",
       "    <tr>\n",
       "      <th>5</th>\n",
       "      <td>6</td>\n",
       "      <td>Harry</td>\n",
       "      <td>Physics</td>\n",
       "    </tr>\n",
       "    <tr>\n",
       "      <th>6</th>\n",
       "      <td>7</td>\n",
       "      <td>Akin</td>\n",
       "      <td>Chemistry</td>\n",
       "    </tr>\n",
       "    <tr>\n",
       "      <th>7</th>\n",
       "      <td>8</td>\n",
       "      <td>Abbey</td>\n",
       "      <td>Physics</td>\n",
       "    </tr>\n",
       "    <tr>\n",
       "      <th>8</th>\n",
       "      <td>9</td>\n",
       "      <td>Victoria</td>\n",
       "      <td>Physics</td>\n",
       "    </tr>\n",
       "    <tr>\n",
       "      <th>9</th>\n",
       "      <td>10</td>\n",
       "      <td>Sam</td>\n",
       "      <td>Chemistry</td>\n",
       "    </tr>\n",
       "  </tbody>\n",
       "</table>\n",
       "</div>"
      ],
      "text/plain": [
       "   student_id student_name student_course\n",
       "0           1        Peter        Physics\n",
       "1           2        Dolly        Physics\n",
       "2           3       Maggie        Physics\n",
       "3           4        David      Chemistry\n",
       "4           5     Isabelle        Physics\n",
       "5           6        Harry        Physics\n",
       "6           7         Akin      Chemistry\n",
       "7           8        Abbey        Physics\n",
       "8           9     Victoria        Physics\n",
       "9          10          Sam      Chemistry"
      ]
     },
     "execution_count": 3,
     "metadata": {},
     "output_type": "execute_result"
    }
   ],
   "source": [
    "# Create dataframe\n",
    "df_1 = pd.DataFrame(dict1)\n",
    "df_1"
   ]
  },
  {
   "cell_type": "markdown",
   "id": "grave-commander",
   "metadata": {
    "papermill": {},
    "tags": []
   },
   "source": [
    "#### Dataframe 2"
   ]
  },
  {
   "cell_type": "code",
   "execution_count": 4,
   "id": "opposite-hampshire",
   "metadata": {
    "execution": {
     "iopub.execute_input": "2022-06-03T16:54:37.381390Z",
     "iopub.status.busy": "2022-06-03T16:54:37.381119Z",
     "iopub.status.idle": "2022-06-03T16:54:37.386807Z",
     "shell.execute_reply": "2022-06-03T16:54:37.386132Z",
     "shell.execute_reply.started": "2022-06-03T16:54:37.381366Z"
    },
    "jupyter": {
     "source_hidden": true
    },
    "papermill": {},
    "tags": []
   },
   "outputs": [],
   "source": [
    "# Creating values to be used as datasets\n",
    "dict2 = {\n",
    "    \"student_id\": np.random.choice([1,2,3,4,5,6,7,8,9,10], size=100),\n",
    "    \"student_grade\": np.random.choice([\"A\",\"B\",\"C\",\"D\",\"E\",\"F\"], size=100),\n",
    "    \"professors\": np.random.choice([\"Mark Levinson\",\"Angela Marge\",\"Bonnie James\",\"Klaus Michealson\"], size=100),\n",
    "}"
   ]
  },
  {
   "cell_type": "code",
   "execution_count": 5,
   "id": "cleared-southwest",
   "metadata": {
    "execution": {
     "iopub.execute_input": "2022-06-03T16:54:37.589641Z",
     "iopub.status.busy": "2022-06-03T16:54:37.589358Z",
     "iopub.status.idle": "2022-06-03T16:54:37.604082Z",
     "shell.execute_reply": "2022-06-03T16:54:37.603568Z",
     "shell.execute_reply.started": "2022-06-03T16:54:37.589614Z"
    },
    "papermill": {},
    "tags": []
   },
   "outputs": [
    {
     "data": {
      "text/html": [
       "<div>\n",
       "<style scoped>\n",
       "    .dataframe tbody tr th:only-of-type {\n",
       "        vertical-align: middle;\n",
       "    }\n",
       "\n",
       "    .dataframe tbody tr th {\n",
       "        vertical-align: top;\n",
       "    }\n",
       "\n",
       "    .dataframe thead th {\n",
       "        text-align: right;\n",
       "    }\n",
       "</style>\n",
       "<table border=\"1\" class=\"dataframe\">\n",
       "  <thead>\n",
       "    <tr style=\"text-align: right;\">\n",
       "      <th></th>\n",
       "      <th>student_id</th>\n",
       "      <th>student_grade</th>\n",
       "      <th>professors</th>\n",
       "    </tr>\n",
       "  </thead>\n",
       "  <tbody>\n",
       "    <tr>\n",
       "      <th>0</th>\n",
       "      <td>6</td>\n",
       "      <td>B</td>\n",
       "      <td>Angela Marge</td>\n",
       "    </tr>\n",
       "    <tr>\n",
       "      <th>1</th>\n",
       "      <td>5</td>\n",
       "      <td>E</td>\n",
       "      <td>Angela Marge</td>\n",
       "    </tr>\n",
       "    <tr>\n",
       "      <th>2</th>\n",
       "      <td>3</td>\n",
       "      <td>A</td>\n",
       "      <td>Bonnie James</td>\n",
       "    </tr>\n",
       "    <tr>\n",
       "      <th>3</th>\n",
       "      <td>5</td>\n",
       "      <td>E</td>\n",
       "      <td>Klaus Michealson</td>\n",
       "    </tr>\n",
       "    <tr>\n",
       "      <th>4</th>\n",
       "      <td>10</td>\n",
       "      <td>A</td>\n",
       "      <td>Angela Marge</td>\n",
       "    </tr>\n",
       "    <tr>\n",
       "      <th>...</th>\n",
       "      <td>...</td>\n",
       "      <td>...</td>\n",
       "      <td>...</td>\n",
       "    </tr>\n",
       "    <tr>\n",
       "      <th>95</th>\n",
       "      <td>6</td>\n",
       "      <td>E</td>\n",
       "      <td>Bonnie James</td>\n",
       "    </tr>\n",
       "    <tr>\n",
       "      <th>96</th>\n",
       "      <td>1</td>\n",
       "      <td>E</td>\n",
       "      <td>Klaus Michealson</td>\n",
       "    </tr>\n",
       "    <tr>\n",
       "      <th>97</th>\n",
       "      <td>7</td>\n",
       "      <td>E</td>\n",
       "      <td>Klaus Michealson</td>\n",
       "    </tr>\n",
       "    <tr>\n",
       "      <th>98</th>\n",
       "      <td>2</td>\n",
       "      <td>B</td>\n",
       "      <td>Mark Levinson</td>\n",
       "    </tr>\n",
       "    <tr>\n",
       "      <th>99</th>\n",
       "      <td>3</td>\n",
       "      <td>B</td>\n",
       "      <td>Angela Marge</td>\n",
       "    </tr>\n",
       "  </tbody>\n",
       "</table>\n",
       "<p>100 rows × 3 columns</p>\n",
       "</div>"
      ],
      "text/plain": [
       "    student_id student_grade        professors\n",
       "0            6             B      Angela Marge\n",
       "1            5             E      Angela Marge\n",
       "2            3             A      Bonnie James\n",
       "3            5             E  Klaus Michealson\n",
       "4           10             A      Angela Marge\n",
       "..         ...           ...               ...\n",
       "95           6             E      Bonnie James\n",
       "96           1             E  Klaus Michealson\n",
       "97           7             E  Klaus Michealson\n",
       "98           2             B     Mark Levinson\n",
       "99           3             B      Angela Marge\n",
       "\n",
       "[100 rows x 3 columns]"
      ]
     },
     "execution_count": 5,
     "metadata": {},
     "output_type": "execute_result"
    }
   ],
   "source": [
    "# Create dataframe\n",
    "df_2 = pd.DataFrame(dict2)  # OR Data2=pd.read_csv(filepath)\n",
    "df_2"
   ]
  },
  {
   "cell_type": "markdown",
   "id": "sticky-fifty",
   "metadata": {
    "papermill": {},
    "tags": []
   },
   "source": [
    "## Model\n",
    "pd.merge: acts like an SQL inner join and joins based on similar columns or index unless specified to join differently<br />"
   ]
  },
  {
   "cell_type": "markdown",
   "id": "unauthorized-disorder",
   "metadata": {
    "papermill": {},
    "tags": []
   },
   "source": [
    "### Merging dataframes with same values with same column names\n",
    "Using pd.merge(left, right) acts like sql inner join and only joins on the common column they have.<br>\n",
    "It tries finding everything from the right and append to left 'student_id' is common to both so it has been merged into one and included all the other df_2 columns to df_1 table.<br>"
   ]
  },
  {
   "cell_type": "code",
   "execution_count": 6,
   "id": "awful-contributor",
   "metadata": {
    "execution": {
     "iopub.execute_input": "2022-06-03T16:54:40.419944Z",
     "iopub.status.busy": "2022-06-03T16:54:40.419714Z",
     "iopub.status.idle": "2022-06-03T16:54:40.429705Z",
     "shell.execute_reply": "2022-06-03T16:54:40.428976Z",
     "shell.execute_reply.started": "2022-06-03T16:54:40.419922Z"
    },
    "papermill": {},
    "tags": []
   },
   "outputs": [],
   "source": [
    "df = pd.merge(df_1, df_2)"
   ]
  },
  {
   "cell_type": "markdown",
   "id": "described-contrast",
   "metadata": {
    "papermill": {},
    "tags": []
   },
   "source": [
    "## Output"
   ]
  },
  {
   "cell_type": "markdown",
   "id": "later-fraction",
   "metadata": {
    "papermill": {},
    "tags": []
   },
   "source": [
    "### Display result"
   ]
  },
  {
   "cell_type": "code",
   "execution_count": 7,
   "id": "optimum-helicopter",
   "metadata": {
    "execution": {
     "iopub.execute_input": "2022-06-03T16:54:43.444725Z",
     "iopub.status.busy": "2022-06-03T16:54:43.444345Z",
     "iopub.status.idle": "2022-06-03T16:54:43.472499Z",
     "shell.execute_reply": "2022-06-03T16:54:43.471889Z",
     "shell.execute_reply.started": "2022-06-03T16:54:43.444692Z"
    },
    "papermill": {},
    "tags": []
   },
   "outputs": [
    {
     "data": {
      "text/html": [
       "<div>\n",
       "<style scoped>\n",
       "    .dataframe tbody tr th:only-of-type {\n",
       "        vertical-align: middle;\n",
       "    }\n",
       "\n",
       "    .dataframe tbody tr th {\n",
       "        vertical-align: top;\n",
       "    }\n",
       "\n",
       "    .dataframe thead th {\n",
       "        text-align: right;\n",
       "    }\n",
       "</style>\n",
       "<table border=\"1\" class=\"dataframe\">\n",
       "  <thead>\n",
       "    <tr style=\"text-align: right;\">\n",
       "      <th></th>\n",
       "      <th>student_id</th>\n",
       "      <th>student_name</th>\n",
       "      <th>student_course</th>\n",
       "      <th>student_grade</th>\n",
       "      <th>professors</th>\n",
       "    </tr>\n",
       "  </thead>\n",
       "  <tbody>\n",
       "    <tr>\n",
       "      <th>0</th>\n",
       "      <td>1</td>\n",
       "      <td>Peter</td>\n",
       "      <td>Physics</td>\n",
       "      <td>C</td>\n",
       "      <td>Klaus Michealson</td>\n",
       "    </tr>\n",
       "    <tr>\n",
       "      <th>1</th>\n",
       "      <td>1</td>\n",
       "      <td>Peter</td>\n",
       "      <td>Physics</td>\n",
       "      <td>B</td>\n",
       "      <td>Klaus Michealson</td>\n",
       "    </tr>\n",
       "    <tr>\n",
       "      <th>2</th>\n",
       "      <td>1</td>\n",
       "      <td>Peter</td>\n",
       "      <td>Physics</td>\n",
       "      <td>B</td>\n",
       "      <td>Bonnie James</td>\n",
       "    </tr>\n",
       "    <tr>\n",
       "      <th>3</th>\n",
       "      <td>1</td>\n",
       "      <td>Peter</td>\n",
       "      <td>Physics</td>\n",
       "      <td>F</td>\n",
       "      <td>Klaus Michealson</td>\n",
       "    </tr>\n",
       "    <tr>\n",
       "      <th>4</th>\n",
       "      <td>1</td>\n",
       "      <td>Peter</td>\n",
       "      <td>Physics</td>\n",
       "      <td>E</td>\n",
       "      <td>Klaus Michealson</td>\n",
       "    </tr>\n",
       "    <tr>\n",
       "      <th>...</th>\n",
       "      <td>...</td>\n",
       "      <td>...</td>\n",
       "      <td>...</td>\n",
       "      <td>...</td>\n",
       "      <td>...</td>\n",
       "    </tr>\n",
       "    <tr>\n",
       "      <th>95</th>\n",
       "      <td>10</td>\n",
       "      <td>Sam</td>\n",
       "      <td>Chemistry</td>\n",
       "      <td>A</td>\n",
       "      <td>Mark Levinson</td>\n",
       "    </tr>\n",
       "    <tr>\n",
       "      <th>96</th>\n",
       "      <td>10</td>\n",
       "      <td>Sam</td>\n",
       "      <td>Chemistry</td>\n",
       "      <td>A</td>\n",
       "      <td>Angela Marge</td>\n",
       "    </tr>\n",
       "    <tr>\n",
       "      <th>97</th>\n",
       "      <td>10</td>\n",
       "      <td>Sam</td>\n",
       "      <td>Chemistry</td>\n",
       "      <td>D</td>\n",
       "      <td>Angela Marge</td>\n",
       "    </tr>\n",
       "    <tr>\n",
       "      <th>98</th>\n",
       "      <td>10</td>\n",
       "      <td>Sam</td>\n",
       "      <td>Chemistry</td>\n",
       "      <td>A</td>\n",
       "      <td>Mark Levinson</td>\n",
       "    </tr>\n",
       "    <tr>\n",
       "      <th>99</th>\n",
       "      <td>10</td>\n",
       "      <td>Sam</td>\n",
       "      <td>Chemistry</td>\n",
       "      <td>A</td>\n",
       "      <td>Bonnie James</td>\n",
       "    </tr>\n",
       "  </tbody>\n",
       "</table>\n",
       "<p>100 rows × 5 columns</p>\n",
       "</div>"
      ],
      "text/plain": [
       "    student_id student_name student_course student_grade        professors\n",
       "0            1        Peter        Physics             C  Klaus Michealson\n",
       "1            1        Peter        Physics             B  Klaus Michealson\n",
       "2            1        Peter        Physics             B      Bonnie James\n",
       "3            1        Peter        Physics             F  Klaus Michealson\n",
       "4            1        Peter        Physics             E  Klaus Michealson\n",
       "..         ...          ...            ...           ...               ...\n",
       "95          10          Sam      Chemistry             A     Mark Levinson\n",
       "96          10          Sam      Chemistry             A      Angela Marge\n",
       "97          10          Sam      Chemistry             D      Angela Marge\n",
       "98          10          Sam      Chemistry             A     Mark Levinson\n",
       "99          10          Sam      Chemistry             A      Bonnie James\n",
       "\n",
       "[100 rows x 5 columns]"
      ]
     },
     "execution_count": 7,
     "metadata": {},
     "output_type": "execute_result"
    }
   ],
   "source": [
    "df"
   ]
  },
  {
   "cell_type": "markdown",
   "id": "thrown-touch",
   "metadata": {
    "papermill": {},
    "tags": []
   },
   "source": [
    "## Other options"
   ]
  },
  {
   "cell_type": "markdown",
   "id": "expanded-adapter",
   "metadata": {
    "execution": {
     "iopub.execute_input": "2021-07-20T12:54:32.522810Z",
     "iopub.status.busy": "2021-07-20T12:54:32.522572Z",
     "iopub.status.idle": "2021-07-20T12:54:32.525785Z",
     "shell.execute_reply": "2021-07-20T12:54:32.525058Z",
     "shell.execute_reply.started": "2021-07-20T12:54:32.522788Z"
    },
    "papermill": {},
    "tags": []
   },
   "source": [
    "### Specifiying the comon column using parameters \"on\""
   ]
  },
  {
   "cell_type": "code",
   "execution_count": 7,
   "id": "environmental-actress",
   "metadata": {
    "execution": {
     "iopub.execute_input": "2021-07-20T12:45:12.004106Z",
     "iopub.status.busy": "2021-07-20T12:45:12.003882Z",
     "iopub.status.idle": "2021-07-20T12:45:12.031423Z",
     "shell.execute_reply": "2021-07-20T12:45:12.030528Z",
     "shell.execute_reply.started": "2021-07-20T12:45:12.004085Z"
    },
    "papermill": {},
    "tags": []
   },
   "outputs": [],
   "source": [
    "df = pd.merge(df_1, df_2, on=\"student_id\")\n",
    "df"
   ]
  },
  {
   "cell_type": "markdown",
   "id": "patient-cathedral",
   "metadata": {
    "papermill": {},
    "tags": []
   },
   "source": [
    "### Specifying what kind of Joins you want since merging does inner joins by default"
   ]
  },
  {
   "cell_type": "markdown",
   "id": "blocked-valuable",
   "metadata": {
    "papermill": {},
    "tags": []
   },
   "source": [
    "- \"inner\" > Inner Join: INCLUDING ROWS OF FIRST AND SECOND ONLY IF THE VALUE IS THE SAME IN BOTH DATAFRAMES<br />\n",
    "- \"outer\" > Outer Join: IT JOINS ALL THE ROWS OF FIRST AND SECOND DATAFRAMES TOGETHER AND CREATE NaN VALUE IF A ROW DOESN'T HAVE A VALUE AFTER JOINING<br />\n",
    "- \"left\" > Left Join: INCLUDES ALL THE ROWS IN THE FIRST DATAFRAME AND ADDS THE COLUMNS OF SECOND DATAFRAME BUT IT WON'T INCLUDE THE ROWS OF THE SECOND DATAFRAME IF IT'S NOT THE SAME WITH THE FIRST<br />\n",
    "- \"right\" > Right Join: INCLUDES ALL THE ROWS OF SECOND DATAFRAME AND THE COLUMNS OF THE FIRST DATAFRAME BUT WON'T INCLUDE THE ROWS OF THE FIRST DATAFRAME IF IT'S NOT SIMILAR TO THE SECOND DATAFRAME"
   ]
  },
  {
   "cell_type": "code",
   "execution_count": 28,
   "id": "active-billion",
   "metadata": {
    "execution": {
     "iopub.execute_input": "2021-07-20T12:55:46.594516Z",
     "iopub.status.busy": "2021-07-20T12:55:46.594292Z",
     "iopub.status.idle": "2021-07-20T12:55:46.608448Z",
     "shell.execute_reply": "2021-07-20T12:55:46.607862Z",
     "shell.execute_reply.started": "2021-07-20T12:55:46.594494Z"
    },
    "papermill": {},
    "tags": []
   },
   "outputs": [],
   "source": [
    "df = pd.merge(df_1, df_2, on=\"student_id\", how='left')\n",
    "df"
   ]
  },
  {
   "cell_type": "markdown",
   "id": "divided-sculpture",
   "metadata": {
    "papermill": {},
    "tags": []
   },
   "source": [
    "### Merging dataframes with same values but different column names\n",
    "We add two more parameters :<br>\n",
    "- Left_on means merge using this column name<br>\n",
    "- Right_on means merge using this column name<br>\n",
    "i.e merge both id and student_id together<br>\n",
    "since they don't have same name, they will create different columns on the new table"
   ]
  },
  {
   "cell_type": "code",
   "execution_count": 30,
   "id": "behind-copper",
   "metadata": {
    "execution": {
     "iopub.execute_input": "2021-07-20T12:57:48.054960Z",
     "iopub.status.busy": "2021-07-20T12:57:48.054733Z",
     "iopub.status.idle": "2021-07-20T12:57:48.065196Z",
     "shell.execute_reply": "2021-07-20T12:57:48.064697Z",
     "shell.execute_reply.started": "2021-07-20T12:57:48.054938Z"
    },
    "papermill": {},
    "tags": []
   },
   "outputs": [],
   "source": [
    "df_1 = df_1.rename(columns={\"student_id\": \"id\"}) # Renamed student_id to id so as to give this example\n",
    "df_1"
   ]
  },
  {
   "cell_type": "code",
   "execution_count": 31,
   "id": "rocky-south",
   "metadata": {
    "execution": {
     "iopub.execute_input": "2021-07-20T12:57:50.779328Z",
     "iopub.status.busy": "2021-07-20T12:57:50.779102Z",
     "iopub.status.idle": "2021-07-20T12:57:50.797346Z",
     "shell.execute_reply": "2021-07-20T12:57:50.796815Z",
     "shell.execute_reply.started": "2021-07-20T12:57:50.779304Z"
    },
    "papermill": {},
    "tags": []
   },
   "outputs": [],
   "source": [
    "df = pd.merge(df_1, df_2, left_on=\"id\", right_on=\"student_id\")\n",
    "df"
   ]
  },
  {
   "cell_type": "markdown",
   "id": "welsh-grove",
   "metadata": {
    "papermill": {},
    "tags": []
   },
   "source": [
    "### Merging with the index of the first dataframe"
   ]
  },
  {
   "cell_type": "code",
   "execution_count": 11,
   "id": "mechanical-personal",
   "metadata": {
    "execution": {
     "iopub.execute_input": "2021-07-20T12:45:15.653778Z",
     "iopub.status.busy": "2021-07-20T12:45:15.653551Z",
     "iopub.status.idle": "2021-07-20T12:45:15.664401Z",
     "shell.execute_reply": "2021-07-20T12:45:15.663877Z",
     "shell.execute_reply.started": "2021-07-20T12:45:15.653756Z"
    },
    "papermill": {},
    "tags": []
   },
   "outputs": [],
   "source": [
    "df_1.set_index(\"id\") # this will make id the new index for df_1"
   ]
  },
  {
   "cell_type": "code",
   "execution_count": 12,
   "id": "english-material",
   "metadata": {
    "execution": {
     "iopub.execute_input": "2021-07-20T12:45:15.872439Z",
     "iopub.status.busy": "2021-07-20T12:45:15.872216Z",
     "iopub.status.idle": "2021-07-20T12:45:15.906921Z",
     "shell.execute_reply": "2021-07-20T12:45:15.906077Z",
     "shell.execute_reply.started": "2021-07-20T12:45:15.872418Z"
    },
    "papermill": {},
    "tags": []
   },
   "outputs": [],
   "source": [
    "df = pd.merge(df_1, df_2, left_index=True, right_on=\"student_id\")#the new index will be from index of df_2 where they joined\n",
    "df"
   ]
  },
  {
   "cell_type": "markdown",
   "id": "labeled-highlight",
   "metadata": {
    "papermill": {},
    "tags": []
   },
   "source": [
    "### Merging both table on their index i.e two indexes"
   ]
  },
  {
   "cell_type": "code",
   "execution_count": 13,
   "id": "reported-trial",
   "metadata": {
    "execution": {
     "iopub.execute_input": "2021-07-20T12:45:16.306338Z",
     "iopub.status.busy": "2021-07-20T12:45:16.306037Z",
     "iopub.status.idle": "2021-07-20T12:45:16.321822Z",
     "shell.execute_reply": "2021-07-20T12:45:16.321256Z",
     "shell.execute_reply.started": "2021-07-20T12:45:16.306309Z"
    },
    "papermill": {},
    "tags": []
   },
   "outputs": [],
   "source": [
    "df_2.set_index(\"student_id\") # making student_id the index of Data2"
   ]
  },
  {
   "cell_type": "code",
   "execution_count": 14,
   "id": "driven-winter",
   "metadata": {
    "execution": {
     "iopub.execute_input": "2021-07-20T12:45:16.948723Z",
     "iopub.status.busy": "2021-07-20T12:45:16.948500Z",
     "iopub.status.idle": "2021-07-20T12:45:16.961804Z",
     "shell.execute_reply": "2021-07-20T12:45:16.961220Z",
     "shell.execute_reply.started": "2021-07-20T12:45:16.948701Z"
    },
    "papermill": {},
    "tags": []
   },
   "outputs": [],
   "source": [
    "df = pd.merge(df_1, df_2, left_index=True, right_index=True) # new index will be from the left index unlike when joining only one index\n",
    "df"
   ]
  }
 ],
 "metadata": {
  "kernelspec": {
   "display_name": "Python 3",
   "language": "python",
   "name": "python3"
  },
  "language_info": {
   "codemirror_mode": {
    "name": "ipython",
    "version": 3
   },
   "file_extension": ".py",
   "mimetype": "text/x-python",
   "name": "python",
   "nbconvert_exporter": "python",
   "pygments_lexer": "ipython3",
   "version": "3.9.6"
  },
  "naas": {
   "notebook_id": "d8aca6e6-c1b2-46fe-904b-0024cf2548fa",
   "notebook_path": "Pandas/Pandas_Merge_Dataframes.ipynb"
  },
  "papermill": {
   "default_parameters": {},
   "environment_variables": {},
   "parameters": {},
   "version": "2.3.3"
  }
 },
 "nbformat": 4,
 "nbformat_minor": 5
}

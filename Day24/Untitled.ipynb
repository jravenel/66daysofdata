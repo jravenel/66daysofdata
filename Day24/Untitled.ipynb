{
 "cells": [
  {
   "cell_type": "code",
   "execution_count": 1,
   "id": "419e22cf-d5fe-4f9c-9f51-136580b51f69",
   "metadata": {
    "execution": {
     "iopub.execute_input": "2022-06-25T15:15:39.339572Z",
     "iopub.status.busy": "2022-06-25T15:15:39.339309Z",
     "iopub.status.idle": "2022-06-25T15:15:39.392946Z",
     "shell.execute_reply": "2022-06-25T15:15:39.391804Z",
     "shell.execute_reply.started": "2022-06-25T15:15:39.339506Z"
    }
   },
   "outputs": [
    {
     "ename": "NameError",
     "evalue": "name 'widgets' is not defined",
     "output_type": "error",
     "traceback": [
      "\u001b[0;31m---------------------------------------------------------------------------\u001b[0m",
      "\u001b[0;31mNameError\u001b[0m                                 Traceback (most recent call last)",
      "\u001b[0;32m<ipython-input-1-8e7eb8fded08>\u001b[0m in \u001b[0;36m<module>\u001b[0;34m\u001b[0m\n\u001b[0;32m----> 1\u001b[0;31m widgets.FileUpload(\n\u001b[0m\u001b[1;32m      2\u001b[0m     \u001b[0maccept\u001b[0m\u001b[0;34m=\u001b[0m\u001b[0;34m''\u001b[0m\u001b[0;34m,\u001b[0m  \u001b[0;31m# Accepted file extension e.g. '.txt', '.pdf', 'image/*', 'image/*,.pdf'\u001b[0m\u001b[0;34m\u001b[0m\u001b[0;34m\u001b[0m\u001b[0m\n\u001b[1;32m      3\u001b[0m     \u001b[0mmultiple\u001b[0m\u001b[0;34m=\u001b[0m\u001b[0;32mFalse\u001b[0m  \u001b[0;31m# True to accept multiple files upload else False\u001b[0m\u001b[0;34m\u001b[0m\u001b[0;34m\u001b[0m\u001b[0m\n\u001b[1;32m      4\u001b[0m )\n",
      "\u001b[0;31mNameError\u001b[0m: name 'widgets' is not defined"
     ]
    }
   ],
   "source": [
    "x"
   ]
  },
  {
   "cell_type": "code",
   "execution_count": null,
   "id": "96a5bb3d-2565-435b-b8cc-de9e0be977bb",
   "metadata": {},
   "outputs": [],
   "source": []
  }
 ],
 "metadata": {
  "kernelspec": {
   "display_name": "Python 3",
   "language": "python",
   "name": "python3"
  },
  "language_info": {
   "codemirror_mode": {
    "name": "ipython",
    "version": 3
   },
   "file_extension": ".py",
   "mimetype": "text/x-python",
   "name": "python",
   "nbconvert_exporter": "python",
   "pygments_lexer": "ipython3",
   "version": "3.9.6"
  }
 },
 "nbformat": 4,
 "nbformat_minor": 5
}

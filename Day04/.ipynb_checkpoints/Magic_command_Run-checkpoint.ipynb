{
 "cells": [
  {
   "cell_type": "code",
   "execution_count": 2,
   "id": "e25dd198-5ec9-47b6-9b78-c5278c179794",
   "metadata": {
    "execution": {
     "iopub.execute_input": "2022-06-05T14:03:21.508746Z",
     "iopub.status.busy": "2022-06-05T14:03:21.508520Z",
     "iopub.status.idle": "2022-06-05T14:03:21.530834Z",
     "shell.execute_reply": "2022-06-05T14:03:21.530172Z",
     "shell.execute_reply.started": "2022-06-05T14:03:21.508721Z"
    },
    "tags": []
   },
   "outputs": [
    {
     "name": "stdout",
     "output_type": "stream",
     "text": [
      "Hello LinkedIn 💎\n"
     ]
    }
   ],
   "source": [
    "%run script.py"
   ]
  }
 ],
 "metadata": {
  "kernelspec": {
   "display_name": "Python 3",
   "language": "python",
   "name": "python3"
  },
  "language_info": {
   "codemirror_mode": {
    "name": "ipython",
    "version": 3
   },
   "file_extension": ".py",
   "mimetype": "text/x-python",
   "name": "python",
   "nbconvert_exporter": "python",
   "pygments_lexer": "ipython3",
   "version": "3.9.6"
  }
 },
 "nbformat": 4,
 "nbformat_minor": 5
}

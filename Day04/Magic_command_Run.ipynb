{
 "cells": [
  {
   "cell_type": "code",
   "execution_count": 3,
   "id": "e25dd198-5ec9-47b6-9b78-c5278c179794",
   "metadata": {
    "execution": {
     "iopub.execute_input": "2022-06-05T14:05:33.418812Z",
     "iopub.status.busy": "2022-06-05T14:05:33.418573Z",
     "iopub.status.idle": "2022-06-05T14:05:33.438007Z",
     "shell.execute_reply": "2022-06-05T14:05:33.437292Z",
     "shell.execute_reply.started": "2022-06-05T14:05:33.418789Z"
    },
    "tags": []
   },
   "outputs": [
    {
     "name": "stdout",
     "output_type": "stream",
     "text": [
      "Hello LinkedIn 💎\n"
     ]
    }
   ],
   "source": [
    "%run script.py"
   ]
  },
  {
   "cell_type": "code",
   "execution_count": null,
   "id": "39969975-2884-40b0-a9c4-622e0675ca71",
   "metadata": {},
   "outputs": [],
   "source": []
  }
 ],
 "metadata": {
  "kernelspec": {
   "display_name": "Python 3",
   "language": "python",
   "name": "python3"
  },
  "language_info": {
   "codemirror_mode": {
    "name": "ipython",
    "version": 3
   },
   "file_extension": ".py",
   "mimetype": "text/x-python",
   "name": "python",
   "nbconvert_exporter": "python",
   "pygments_lexer": "ipython3",
   "version": "3.9.6"
  }
 },
 "nbformat": 4,
 "nbformat_minor": 5
}

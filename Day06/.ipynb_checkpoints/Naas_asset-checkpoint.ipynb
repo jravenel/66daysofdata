{
 "cells": [
  {
   "cell_type": "code",
   "execution_count": 3,
   "id": "5c495b91-a5d0-49c5-b9af-fde5efdd859c",
   "metadata": {
    "execution": {
     "iopub.execute_input": "2022-06-07T16:00:44.077984Z",
     "iopub.status.busy": "2022-06-07T16:00:44.077681Z",
     "iopub.status.idle": "2022-06-07T16:00:44.104698Z",
     "shell.execute_reply": "2022-06-07T16:00:44.104022Z",
     "shell.execute_reply.started": "2022-06-07T16:00:44.077952Z"
    },
    "tags": []
   },
   "outputs": [
    {
     "name": "stdout",
     "output_type": "stream",
     "text": [
      "Overwriting mywebsite.html\n"
     ]
    }
   ],
   "source": [
    "%%writefile mywebsite.html\n",
    "<!DOCTYPE html>\n",
    "<html><head><meta http-equiv=\"Content-Type\" content=\"text/html; charset=UTF-8\">\n",
    "    <title>Jeremy Ravenel Website</title>\n",
    "\n",
    "    \n",
    "    \n",
    "    <meta name=\"viewport\" content=\"width=device-width, initial-scale=1\">\n",
    "    <style type=\"text/css\">\n",
    "    body {\n",
    "        background-color: #f0f0f2;\n",
    "        margin: 0;\n",
    "        padding: 0;\n",
    "        font-family: -apple-system, system-ui, BlinkMacSystemFont, \"Segoe UI\", \"Open Sans\", \"Helvetica Neue\", Helvetica, Arial, sans-serif;\n",
    "        \n",
    "    }\n",
    "    div {\n",
    "        width: 600px;\n",
    "        margin: 5em auto;\n",
    "        padding: 2em;\n",
    "        background-color: #fdfdff;\n",
    "        border-radius: 0.5em;\n",
    "        box-shadow: 2px 3px 7px 2px rgba(0,0,0,0.02);\n",
    "    }\n",
    "    a:link, a:visited {\n",
    "        color: #38488f;\n",
    "        text-decoration: none;\n",
    "    }\n",
    "    @media (max-width: 700px) {\n",
    "        div {\n",
    "            margin: 0 auto;\n",
    "            width: auto;\n",
    "        }\n",
    "    }\n",
    "    </style>    \n",
    "<style type=\"text/css\">\n",
    "@font-face {\n",
    "  font-weight: 400;\n",
    "  font-style:  normal;\n",
    "  font-family: 'Circular-Loom';\n",
    "\n",
    "  src: url('https://cdn.loom.com/assets/fonts/circular/CircularXXWeb-Book-cd7d2bcec649b1243839a15d5eb8f0a3.woff2') format('woff2');\n",
    "}\n",
    "\n",
    "@font-face {\n",
    "  font-weight: 500;\n",
    "  font-style:  normal;\n",
    "  font-family: 'Circular-Loom';\n",
    "\n",
    "  src: url('https://cdn.loom.com/assets/fonts/circular/CircularXXWeb-Medium-d74eac43c78bd5852478998ce63dceb3.woff2') format('woff2');\n",
    "}\n",
    "\n",
    "@font-face {\n",
    "  font-weight: 700;\n",
    "  font-style:  normal;\n",
    "  font-family: 'Circular-Loom';\n",
    "\n",
    "  src: url('https://cdn.loom.com/assets/fonts/circular/CircularXXWeb-Bold-83b8ceaf77f49c7cffa44107561909e4.woff2') format('woff2');\n",
    "}\n",
    "\n",
    "@font-face {\n",
    "  font-weight: 900;\n",
    "  font-style:  normal;\n",
    "  font-family: 'Circular-Loom';\n",
    "\n",
    "  src: url('https://cdn.loom.com/assets/fonts/circular/CircularXXWeb-Black-bf067ecb8aa777ceb6df7d72226febca.woff2') format('woff2');\n",
    "}</style></head>\n",
    "\n",
    "<body>\n",
    "<div>\n",
    "    <h1>🤗 Jeremy's Website</h1>\n",
    "    <p>This is my personal website, documenting my journey in the #66daysofdata challenges.</p>\n",
    "    <p>Let's connect👇</p>\n",
    "    <li><a href=\"https://www.linkedin.com/in/j%C3%A9r%C3%A9my-ravenel-8a396910/\">LinkedIn</a></li>\n",
    "    <li><a href=\"https://twitter.com/ravenel_jeremy\">Twitter</a></li>\n",
    "    <li><a href=\"mailto:jeremy@naas.ai\">jeremy@naas.ai</a></li>\n",
    "</div>\n",
    "\n",
    "\n",
    "</body><loom-container id=\"lo-engage-ext-container\"><loom-shadow classname=\"resolved\"></loom-shadow></loom-container><loom-container id=\"lo-companion-container\"><loom-shadow classname=\"resolved\"></loom-shadow></loom-container></html>"
   ]
  },
  {
   "cell_type": "code",
   "execution_count": 4,
   "id": "185eae7c-4954-477e-aef8-47d7046a3049",
   "metadata": {
    "execution": {
     "iopub.execute_input": "2022-06-07T16:01:24.570434Z",
     "iopub.status.busy": "2022-06-07T16:01:24.570204Z",
     "iopub.status.idle": "2022-06-07T16:01:25.021275Z",
     "shell.execute_reply": "2022-06-07T16:01:25.020619Z",
     "shell.execute_reply.started": "2022-06-07T16:01:24.570412Z"
    },
    "tags": []
   },
   "outputs": [
    {
     "name": "stdout",
     "output_type": "stream",
     "text": [
      "👌 Well done! Your Assets has been sent to production.\n",
      "\n"
     ]
    },
    {
     "data": {
      "application/javascript": [
       "\n",
       "    if (!window.copyToClipboard) {\n",
       "        window.copyToClipboard = (text) => {\n",
       "            const dummy = document.createElement(\"textarea\");\n",
       "            document.body.appendChild(dummy);\n",
       "            dummy.value = text;\n",
       "            dummy.select();\n",
       "            document.execCommand(\"copy\");\n",
       "            document.body.removeChild(dummy);\n",
       "        }\n",
       "    }\n",
       "    "
      ],
      "text/plain": [
       "<IPython.core.display.Javascript object>"
      ]
     },
     "metadata": {},
     "output_type": "display_data"
    },
    {
     "data": {
      "application/vnd.jupyter.widget-view+json": {
       "model_id": "83a2fc1a4e9c4f15a943853d5c4106ab",
       "version_major": 2,
       "version_minor": 0
      },
      "text/plain": [
       "Button(button_style='primary', description='Copy URL', style=ButtonStyle())"
      ]
     },
     "metadata": {},
     "output_type": "display_data"
    },
    {
     "data": {
      "application/vnd.jupyter.widget-view+json": {
       "model_id": "f50674cb60fd4adc906946c2f3f6afe8",
       "version_major": 2,
       "version_minor": 0
      },
      "text/plain": [
       "Output()"
      ]
     },
     "metadata": {},
     "output_type": "display_data"
    },
    {
     "name": "stdout",
     "output_type": "stream",
     "text": [
      "PS: to remove the \"Assets\" feature, just replace .add by .delete\n"
     ]
    },
    {
     "data": {
      "text/plain": [
       "'https://public.naas.ai/amVyZW15LTQwbmFhcy0yRWFp/asset/55a42022bca3eecbc9b2006626c967d2af475edbca65041a86cd26d77850'"
      ]
     },
     "execution_count": 4,
     "metadata": {},
     "output_type": "execute_result"
    }
   ],
   "source": [
    "import naas\n",
    "naas.asset.add(\"mywebsite.html\",{\"inline\": True})"
   ]
  },
  {
   "cell_type": "code",
   "execution_count": null,
   "id": "18b76251-208c-4e96-b1af-4477972f6902",
   "metadata": {},
   "outputs": [],
   "source": []
  }
 ],
 "metadata": {
  "kernelspec": {
   "display_name": "Python 3",
   "language": "python",
   "name": "python3"
  },
  "language_info": {
   "codemirror_mode": {
    "name": "ipython",
    "version": 3
   },
   "file_extension": ".py",
   "mimetype": "text/x-python",
   "name": "python",
   "nbconvert_exporter": "python",
   "pygments_lexer": "ipython3",
   "version": "3.9.6"
  }
 },
 "nbformat": 4,
 "nbformat_minor": 5
}

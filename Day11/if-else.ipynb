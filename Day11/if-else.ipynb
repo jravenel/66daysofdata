{
 "cells": [
  {
   "cell_type": "markdown",
   "id": "59353812-fa53-46ab-a877-623c5cd0fac3",
   "metadata": {},
   "source": [
    "# Simple if else statement"
   ]
  },
  {
   "cell_type": "code",
   "execution_count": 5,
   "id": "e45a3500-dbd1-4600-b9d2-0c67a025c92c",
   "metadata": {
    "execution": {
     "iopub.execute_input": "2022-06-12T17:35:02.735274Z",
     "iopub.status.busy": "2022-06-12T17:35:02.735037Z",
     "iopub.status.idle": "2022-06-12T17:35:02.739108Z",
     "shell.execute_reply": "2022-06-12T17:35:02.738465Z",
     "shell.execute_reply.started": "2022-06-12T17:35:02.735245Z"
    },
    "tags": []
   },
   "outputs": [
    {
     "name": "stdout",
     "output_type": "stream",
     "text": [
      "✅ You have passed\n"
     ]
    }
   ],
   "source": [
    "number = 50\n",
    "\n",
    "if (number >= 50):\n",
    "    print(\"✅ You have passed\")\n",
    "else:\n",
    "    print(\"🔴 You have not passed\")"
   ]
  },
  {
   "cell_type": "code",
   "execution_count": null,
   "id": "46c9f0ee-1484-421e-b145-db416f370c73",
   "metadata": {},
   "outputs": [],
   "source": []
  }
 ],
 "metadata": {
  "kernelspec": {
   "display_name": "Python 3",
   "language": "python",
   "name": "python3"
  },
  "language_info": {
   "codemirror_mode": {
    "name": "ipython",
    "version": 3
   },
   "file_extension": ".py",
   "mimetype": "text/x-python",
   "name": "python",
   "nbconvert_exporter": "python",
   "pygments_lexer": "ipython3",
   "version": "3.9.6"
  }
 },
 "nbformat": 4,
 "nbformat_minor": 5
}

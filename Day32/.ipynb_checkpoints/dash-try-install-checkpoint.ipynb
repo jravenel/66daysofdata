{
 "cells": [
  {
   "cell_type": "code",
   "execution_count": null,
   "id": "654dd8b5-3f80-48cc-b5a4-47ebd9eac7b7",
   "metadata": {
    "tags": []
   },
   "outputs": [],
   "source": [
    "!pip install dash   \n",
    "!pip install dash-html-components                                         \n",
    "!pip install dash-core-components                                     \n",
    "!pip install plotly"
   ]
  },
  {
   "cell_type": "code",
   "execution_count": 5,
   "id": "7f9cbf64-8d7f-4b60-8af4-879fbe083f01",
   "metadata": {
    "execution": {
     "iopub.execute_input": "2022-07-03T14:58:06.942325Z",
     "iopub.status.busy": "2022-07-03T14:58:06.942098Z",
     "iopub.status.idle": "2022-07-03T14:58:06.945494Z",
     "shell.execute_reply": "2022-07-03T14:58:06.944863Z",
     "shell.execute_reply.started": "2022-07-03T14:58:06.942302Z"
    },
    "tags": []
   },
   "outputs": [],
   "source": [
    "import dash\n",
    "from dash import html\n",
    "import dash_core_components as dcc\n",
    "import plotly.graph_objects as go\n",
    "import plotly.express as px"
   ]
  },
  {
   "cell_type": "code",
   "execution_count": 6,
   "id": "f79877dd-affa-4859-90df-e6ce6967785d",
   "metadata": {
    "execution": {
     "iopub.execute_input": "2022-07-03T14:58:27.540457Z",
     "iopub.status.busy": "2022-07-03T14:58:27.539538Z",
     "iopub.status.idle": "2022-07-03T14:58:27.934572Z",
     "shell.execute_reply": "2022-07-03T14:58:27.933898Z",
     "shell.execute_reply.started": "2022-07-03T14:58:27.540409Z"
    }
   },
   "outputs": [],
   "source": [
    "app = dash.Dash()   #initialising dash app\n",
    "df = px.data.stocks() #reading stock price dataset \n",
    "\n",
    "def stock_prices():\n",
    "    # Function for creating line chart showing Google stock prices over time \n",
    "    fig = go.Figure([go.Scatter(x = df['date'], y = df['GOOG'],\\\n",
    "                     line = dict(color = 'firebrick', width = 4), name = 'Google')\n",
    "                     ])\n",
    "    fig.update_layout(title = 'Prices over time',\n",
    "                      xaxis_title = 'Dates',\n",
    "                      yaxis_title = 'Prices'\n",
    "                      )\n",
    "    return fig  \n",
    "\n",
    " \n",
    "app.layout = html.Div(id = 'parent', children = [\n",
    "    html.H1(id = 'H1', children = 'Styling using html components', style = {'textAlign':'center',\\\n",
    "                                            'marginTop':40,'marginBottom':40}),\n",
    "\n",
    "        \n",
    "        dcc.Graph(id = 'line_plot', figure = stock_prices())    \n",
    "    ]\n",
    "                     )"
   ]
  },
  {
   "cell_type": "code",
   "execution_count": null,
   "id": "f3b5cc99-a86b-4837-bf72-5796dc048df1",
   "metadata": {
    "execution": {
     "iopub.execute_input": "2022-07-03T14:58:48.038480Z",
     "iopub.status.busy": "2022-07-03T14:58:48.038242Z"
    }
   },
   "outputs": [
    {
     "name": "stdout",
     "output_type": "stream",
     "text": [
      "Dash is running on http://127.0.0.1:8050/\n",
      "\n",
      " * Serving Flask app '__main__' (lazy loading)\n",
      " * Environment: production\n",
      "\u001b[31m   WARNING: This is a development server. Do not use it in a production deployment.\u001b[0m\n",
      "\u001b[2m   Use a production WSGI server instead.\u001b[0m\n",
      " * Debug mode: off\n"
     ]
    },
    {
     "name": "stderr",
     "output_type": "stream",
     "text": [
      " * Running on http://127.0.0.1:8050 (Press CTRL+C to quit)\n"
     ]
    }
   ],
   "source": [
    "if __name__ == '__main__': \n",
    "    app.run_server()"
   ]
  },
  {
   "cell_type": "code",
   "execution_count": null,
   "id": "55ee5333-a40e-4795-8e7a-aa9a81eaaaa2",
   "metadata": {},
   "outputs": [],
   "source": []
  }
 ],
 "metadata": {
  "kernelspec": {
   "display_name": "Python 3",
   "language": "python",
   "name": "python3"
  },
  "language_info": {
   "codemirror_mode": {
    "name": "ipython",
    "version": 3
   },
   "file_extension": ".py",
   "mimetype": "text/x-python",
   "name": "python",
   "nbconvert_exporter": "python",
   "pygments_lexer": "ipython3",
   "version": "3.9.6"
  }
 },
 "nbformat": 4,
 "nbformat_minor": 5
}

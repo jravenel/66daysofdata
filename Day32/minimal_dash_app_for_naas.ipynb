{
 "cells": [
  {
   "cell_type": "code",
   "execution_count": null,
   "id": "993e3d25-1f54-46a0-b9ac-b312af0dd626",
   "metadata": {
    "tags": []
   },
   "outputs": [],
   "source": [
    "#!pip install jupyter_dash --user\n",
    "#!pip install dash_bootstrap_components"
   ]
  },
  {
   "cell_type": "code",
   "execution_count": 7,
   "id": "e0653fb7-8aa0-436c-bedb-cd724f56e73b",
   "metadata": {
    "execution": {
     "iopub.execute_input": "2022-07-03T14:55:37.341676Z",
     "iopub.status.busy": "2022-07-03T14:55:37.341270Z",
     "iopub.status.idle": "2022-07-03T14:55:37.347760Z",
     "shell.execute_reply": "2022-07-03T14:55:37.347162Z",
     "shell.execute_reply.started": "2022-07-03T14:55:37.341633Z"
    },
    "tags": []
   },
   "outputs": [
    {
     "name": "stdout",
     "output_type": "stream",
     "text": [
      "dash--------------------------v2.5.1\n",
      "jupyter_dash------------------v0.4.2\n",
      "dash_bootstrap_components-----v1.2.0\n"
     ]
    }
   ],
   "source": [
    "from jupyter_dash import JupyterDash\n",
    "from dash import dcc, html, Input, Output\n",
    "import dash_bootstrap_components as dbc\n",
    "import dash, jupyter_dash\n",
    "\n",
    "for pkg in [dash, jupyter_dash, dbc]:\n",
    "    print(f'{pkg.__name__:-<30}v{pkg.__version__}')"
   ]
  },
  {
   "cell_type": "code",
   "execution_count": 8,
   "id": "4f919248-9cac-431a-babe-827167a1f240",
   "metadata": {
    "execution": {
     "iopub.execute_input": "2022-07-03T14:55:39.881205Z",
     "iopub.status.busy": "2022-07-03T14:55:39.880822Z",
     "iopub.status.idle": "2022-07-03T14:55:40.194434Z",
     "shell.execute_reply": "2022-07-03T14:55:40.193861Z",
     "shell.execute_reply.started": "2022-07-03T14:55:39.881168Z"
    },
    "tags": []
   },
   "outputs": [
    {
     "data": {
      "text/html": [
       "\n",
       "        <iframe\n",
       "            width=\"100%\"\n",
       "            height=\"650\"\n",
       "            src=\"http://127.0.0.1:8060/\"\n",
       "            frameborder=\"0\"\n",
       "            allowfullscreen\n",
       "        ></iframe>\n",
       "        "
      ],
      "text/plain": [
       "<IPython.lib.display.IFrame at 0x7fe13954dd30>"
      ]
     },
     "metadata": {},
     "output_type": "display_data"
    }
   ],
   "source": [
    "app = JupyterDash(__name__, external_stylesheets=[dbc.themes.COSMO])\n",
    "\n",
    "app.layout = html.Div([\n",
    "    html.H1(\"Hello World!\"),\n",
    "    dcc.Dropdown(id='dropdown', options=['blue', 'green', 'red']), html.Br(),\n",
    "    html.Div(id='output')\n",
    "])\n",
    "\n",
    "\n",
    "@app.callback(Output('output', 'children'),\n",
    "              Input('dropdown', 'value'))\n",
    "def show_selected_color(color):\n",
    "    if not color:\n",
    "        color = 'nothing'\n",
    "    return f'You selected {color}'\n",
    "\n",
    "app.run_server(mode='inline', port=8060)"
   ]
  },
  {
   "cell_type": "code",
   "execution_count": null,
   "id": "91f5ea0a-ab8f-4fb4-9db1-6d8ee8639f32",
   "metadata": {},
   "outputs": [],
   "source": []
  }
 ],
 "metadata": {
  "kernelspec": {
   "display_name": "Python 3",
   "language": "python",
   "name": "python3"
  },
  "language_info": {
   "codemirror_mode": {
    "name": "ipython",
    "version": 3
   },
   "file_extension": ".py",
   "mimetype": "text/x-python",
   "name": "python",
   "nbconvert_exporter": "python",
   "pygments_lexer": "ipython3",
   "version": "3.9.6"
  }
 },
 "nbformat": 4,
 "nbformat_minor": 5
}
